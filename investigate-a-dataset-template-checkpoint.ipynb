{
 "cells": [
  {
   "cell_type": "markdown",
   "metadata": {},
   "source": [
    "\n",
    "# Project: Investigate a Dataset (Replace this with something more specific!)\n",
    "\n",
    "## Table of Contents\n",
    "<ul>\n",
    "<li><a href=\"#intro\">Introduction</a></li>\n",
    "<li><a href=\"#wrangling\">Data Wrangling</a></li>\n",
    "<li><a href=\"#eda\">Exploratory Data Analysis</a></li>\n",
    "<li><a href=\"#conclusions\">Conclusions</a></li>\n",
    "</ul>"
   ]
  },
  {
   "cell_type": "markdown",
   "metadata": {},
   "source": [
    "<a id='intro'></a>\n",
    "## Introduction\n"
   ]
  },
  {
   "cell_type": "markdown",
   "metadata": {},
   "source": [
    "> I collect three datasets **(income per person, Human development index(HDI) and happiness score(WHR) )**\n",
    "> the project will invistigate this variables and trying to find a relations with each variable"
   ]
  },
  {
   "cell_type": "code",
   "execution_count": 1,
   "metadata": {},
   "outputs": [],
   "source": [
    "# Use this cell to set up import statements for all of the packages that you\n",
    "#   plan to use.\n",
    "%matplotlib inline\n",
    "import pandas as pd\n",
    "import numpy as np\n",
    "from matplotlib import pyplot as plt\n",
    "\n",
    "# Remember to include a 'magic word' so that your visualizations are plotted\n",
    "#   inline with the notebook. See this page for more:\n",
    "#   http://ipython.readthedocs.io/en/stable/interactive/magics.html"
   ]
  },
  {
   "cell_type": "markdown",
   "metadata": {},
   "source": [
    "<a id='wrangling'></a>\n",
    "## Data Wrangling\n",
    "\n",
    "### General Properties"
   ]
  },
  {
   "cell_type": "code",
   "execution_count": 2,
   "metadata": {},
   "outputs": [],
   "source": [
    "# Load your data and print out a few lines. Perform operations to inspect data\n",
    "#   types and look for instances of missing or possibly errant data\n",
    "\n",
    "#income per person for every country in specific year by us dolars\n",
    "df_income = pd.read_csv('income_per_person_gdppercapita_ppp_inflation_adjusted.csv')\n",
    "#happy score for every country in specific year\n",
    "#This is the national average response to the question of life evaluations \n",
    "df_whr = pd.read_csv('hapiscore_whr.csv') \n",
    "# Human Development Index is an index used to rank countries by level of \"human development\".\n",
    "#It contains three dimensions: health level, educational level and living standard.\n",
    "df_hdi = pd.read_csv('hdi_human_development_index.csv')"
   ]
  },
  {
   "cell_type": "markdown",
   "metadata": {},
   "source": [
    "#### quick look to the datasets"
   ]
  },
  {
   "cell_type": "code",
   "execution_count": 3,
   "metadata": {},
   "outputs": [
    {
     "data": {
      "text/html": [
       "<div>\n",
       "<style scoped>\n",
       "    .dataframe tbody tr th:only-of-type {\n",
       "        vertical-align: middle;\n",
       "    }\n",
       "\n",
       "    .dataframe tbody tr th {\n",
       "        vertical-align: top;\n",
       "    }\n",
       "\n",
       "    .dataframe thead th {\n",
       "        text-align: right;\n",
       "    }\n",
       "</style>\n",
       "<table border=\"1\" class=\"dataframe\">\n",
       "  <thead>\n",
       "    <tr style=\"text-align: right;\">\n",
       "      <th></th>\n",
       "      <th>country</th>\n",
       "      <th>1800</th>\n",
       "      <th>1801</th>\n",
       "      <th>1802</th>\n",
       "      <th>1803</th>\n",
       "      <th>1804</th>\n",
       "      <th>1805</th>\n",
       "      <th>1806</th>\n",
       "      <th>1807</th>\n",
       "      <th>1808</th>\n",
       "      <th>...</th>\n",
       "      <th>2031</th>\n",
       "      <th>2032</th>\n",
       "      <th>2033</th>\n",
       "      <th>2034</th>\n",
       "      <th>2035</th>\n",
       "      <th>2036</th>\n",
       "      <th>2037</th>\n",
       "      <th>2038</th>\n",
       "      <th>2039</th>\n",
       "      <th>2040</th>\n",
       "    </tr>\n",
       "  </thead>\n",
       "  <tbody>\n",
       "    <tr>\n",
       "      <th>0</th>\n",
       "      <td>Afghanistan</td>\n",
       "      <td>603</td>\n",
       "      <td>603</td>\n",
       "      <td>603</td>\n",
       "      <td>603</td>\n",
       "      <td>603</td>\n",
       "      <td>603</td>\n",
       "      <td>603</td>\n",
       "      <td>603</td>\n",
       "      <td>603</td>\n",
       "      <td>...</td>\n",
       "      <td>2550</td>\n",
       "      <td>2600</td>\n",
       "      <td>2660</td>\n",
       "      <td>2710</td>\n",
       "      <td>2770</td>\n",
       "      <td>2820</td>\n",
       "      <td>2880</td>\n",
       "      <td>2940</td>\n",
       "      <td>3000</td>\n",
       "      <td>3060</td>\n",
       "    </tr>\n",
       "    <tr>\n",
       "      <th>1</th>\n",
       "      <td>Angola</td>\n",
       "      <td>618</td>\n",
       "      <td>620</td>\n",
       "      <td>623</td>\n",
       "      <td>626</td>\n",
       "      <td>628</td>\n",
       "      <td>631</td>\n",
       "      <td>634</td>\n",
       "      <td>637</td>\n",
       "      <td>640</td>\n",
       "      <td>...</td>\n",
       "      <td>6110</td>\n",
       "      <td>6230</td>\n",
       "      <td>6350</td>\n",
       "      <td>6480</td>\n",
       "      <td>6610</td>\n",
       "      <td>6750</td>\n",
       "      <td>6880</td>\n",
       "      <td>7020</td>\n",
       "      <td>7170</td>\n",
       "      <td>7310</td>\n",
       "    </tr>\n",
       "    <tr>\n",
       "      <th>2</th>\n",
       "      <td>Albania</td>\n",
       "      <td>667</td>\n",
       "      <td>667</td>\n",
       "      <td>667</td>\n",
       "      <td>667</td>\n",
       "      <td>667</td>\n",
       "      <td>668</td>\n",
       "      <td>668</td>\n",
       "      <td>668</td>\n",
       "      <td>668</td>\n",
       "      <td>...</td>\n",
       "      <td>19.4k</td>\n",
       "      <td>19.8k</td>\n",
       "      <td>20.2k</td>\n",
       "      <td>20.6k</td>\n",
       "      <td>21k</td>\n",
       "      <td>21.5k</td>\n",
       "      <td>21.9k</td>\n",
       "      <td>22.3k</td>\n",
       "      <td>22.8k</td>\n",
       "      <td>23.3k</td>\n",
       "    </tr>\n",
       "    <tr>\n",
       "      <th>3</th>\n",
       "      <td>Andorra</td>\n",
       "      <td>1200</td>\n",
       "      <td>1200</td>\n",
       "      <td>1200</td>\n",
       "      <td>1200</td>\n",
       "      <td>1210</td>\n",
       "      <td>1210</td>\n",
       "      <td>1210</td>\n",
       "      <td>1210</td>\n",
       "      <td>1220</td>\n",
       "      <td>...</td>\n",
       "      <td>73.6k</td>\n",
       "      <td>75.1k</td>\n",
       "      <td>76.7k</td>\n",
       "      <td>78.3k</td>\n",
       "      <td>79.8k</td>\n",
       "      <td>81.5k</td>\n",
       "      <td>83.1k</td>\n",
       "      <td>84.8k</td>\n",
       "      <td>86.5k</td>\n",
       "      <td>88.3k</td>\n",
       "    </tr>\n",
       "    <tr>\n",
       "      <th>4</th>\n",
       "      <td>United Arab Emirates</td>\n",
       "      <td>998</td>\n",
       "      <td>1000</td>\n",
       "      <td>1010</td>\n",
       "      <td>1010</td>\n",
       "      <td>1010</td>\n",
       "      <td>1020</td>\n",
       "      <td>1020</td>\n",
       "      <td>1020</td>\n",
       "      <td>1030</td>\n",
       "      <td>...</td>\n",
       "      <td>66.8k</td>\n",
       "      <td>68.1k</td>\n",
       "      <td>69.4k</td>\n",
       "      <td>70.8k</td>\n",
       "      <td>72.2k</td>\n",
       "      <td>73.7k</td>\n",
       "      <td>75.2k</td>\n",
       "      <td>76.7k</td>\n",
       "      <td>78.3k</td>\n",
       "      <td>79.9k</td>\n",
       "    </tr>\n",
       "  </tbody>\n",
       "</table>\n",
       "<p>5 rows × 242 columns</p>\n",
       "</div>"
      ],
      "text/plain": [
       "                country  1800  1801  1802  1803  1804  1805  1806  1807  1808  \\\n",
       "0           Afghanistan   603   603   603   603   603   603   603   603   603   \n",
       "1                Angola   618   620   623   626   628   631   634   637   640   \n",
       "2               Albania   667   667   667   667   667   668   668   668   668   \n",
       "3               Andorra  1200  1200  1200  1200  1210  1210  1210  1210  1220   \n",
       "4  United Arab Emirates   998  1000  1010  1010  1010  1020  1020  1020  1030   \n",
       "\n",
       "   ...   2031   2032   2033   2034   2035   2036   2037   2038   2039   2040  \n",
       "0  ...   2550   2600   2660   2710   2770   2820   2880   2940   3000   3060  \n",
       "1  ...   6110   6230   6350   6480   6610   6750   6880   7020   7170   7310  \n",
       "2  ...  19.4k  19.8k  20.2k  20.6k    21k  21.5k  21.9k  22.3k  22.8k  23.3k  \n",
       "3  ...  73.6k  75.1k  76.7k  78.3k  79.8k  81.5k  83.1k  84.8k  86.5k  88.3k  \n",
       "4  ...  66.8k  68.1k  69.4k  70.8k  72.2k  73.7k  75.2k  76.7k  78.3k  79.9k  \n",
       "\n",
       "[5 rows x 242 columns]"
      ]
     },
     "execution_count": 3,
     "metadata": {},
     "output_type": "execute_result"
    }
   ],
   "source": [
    "df_income.head(5)"
   ]
  },
  {
   "cell_type": "code",
   "execution_count": 4,
   "metadata": {},
   "outputs": [
    {
     "data": {
      "text/html": [
       "<div>\n",
       "<style scoped>\n",
       "    .dataframe tbody tr th:only-of-type {\n",
       "        vertical-align: middle;\n",
       "    }\n",
       "\n",
       "    .dataframe tbody tr th {\n",
       "        vertical-align: top;\n",
       "    }\n",
       "\n",
       "    .dataframe thead th {\n",
       "        text-align: right;\n",
       "    }\n",
       "</style>\n",
       "<table border=\"1\" class=\"dataframe\">\n",
       "  <thead>\n",
       "    <tr style=\"text-align: right;\">\n",
       "      <th></th>\n",
       "      <th>country</th>\n",
       "      <th>2005</th>\n",
       "      <th>2006</th>\n",
       "      <th>2007</th>\n",
       "      <th>2008</th>\n",
       "      <th>2009</th>\n",
       "      <th>2010</th>\n",
       "      <th>2011</th>\n",
       "      <th>2012</th>\n",
       "      <th>2013</th>\n",
       "      <th>2014</th>\n",
       "      <th>2015</th>\n",
       "      <th>2016</th>\n",
       "      <th>2017</th>\n",
       "      <th>2018</th>\n",
       "      <th>2019</th>\n",
       "    </tr>\n",
       "  </thead>\n",
       "  <tbody>\n",
       "    <tr>\n",
       "      <th>0</th>\n",
       "      <td>Afghanistan</td>\n",
       "      <td>NaN</td>\n",
       "      <td>NaN</td>\n",
       "      <td>NaN</td>\n",
       "      <td>37.2</td>\n",
       "      <td>44.0</td>\n",
       "      <td>47.6</td>\n",
       "      <td>38.3</td>\n",
       "      <td>37.8</td>\n",
       "      <td>35.7</td>\n",
       "      <td>31.3</td>\n",
       "      <td>39.8</td>\n",
       "      <td>42.2</td>\n",
       "      <td>26.6</td>\n",
       "      <td>26.9</td>\n",
       "      <td>25.7</td>\n",
       "    </tr>\n",
       "    <tr>\n",
       "      <th>1</th>\n",
       "      <td>Angola</td>\n",
       "      <td>NaN</td>\n",
       "      <td>NaN</td>\n",
       "      <td>NaN</td>\n",
       "      <td>NaN</td>\n",
       "      <td>NaN</td>\n",
       "      <td>NaN</td>\n",
       "      <td>55.9</td>\n",
       "      <td>43.6</td>\n",
       "      <td>39.4</td>\n",
       "      <td>37.9</td>\n",
       "      <td>NaN</td>\n",
       "      <td>NaN</td>\n",
       "      <td>NaN</td>\n",
       "      <td>NaN</td>\n",
       "      <td>NaN</td>\n",
       "    </tr>\n",
       "    <tr>\n",
       "      <th>2</th>\n",
       "      <td>Albania</td>\n",
       "      <td>NaN</td>\n",
       "      <td>NaN</td>\n",
       "      <td>46.3</td>\n",
       "      <td>NaN</td>\n",
       "      <td>54.9</td>\n",
       "      <td>52.7</td>\n",
       "      <td>58.7</td>\n",
       "      <td>55.1</td>\n",
       "      <td>45.5</td>\n",
       "      <td>48.1</td>\n",
       "      <td>46.1</td>\n",
       "      <td>45.1</td>\n",
       "      <td>46.4</td>\n",
       "      <td>50.0</td>\n",
       "      <td>48.8</td>\n",
       "    </tr>\n",
       "    <tr>\n",
       "      <th>3</th>\n",
       "      <td>United Arab Emirates</td>\n",
       "      <td>NaN</td>\n",
       "      <td>67.3</td>\n",
       "      <td>NaN</td>\n",
       "      <td>NaN</td>\n",
       "      <td>68.7</td>\n",
       "      <td>71.0</td>\n",
       "      <td>71.2</td>\n",
       "      <td>72.2</td>\n",
       "      <td>66.2</td>\n",
       "      <td>65.4</td>\n",
       "      <td>65.7</td>\n",
       "      <td>68.3</td>\n",
       "      <td>70.4</td>\n",
       "      <td>66.0</td>\n",
       "      <td>67.9</td>\n",
       "    </tr>\n",
       "    <tr>\n",
       "      <th>4</th>\n",
       "      <td>Argentina</td>\n",
       "      <td>NaN</td>\n",
       "      <td>63.1</td>\n",
       "      <td>60.7</td>\n",
       "      <td>59.6</td>\n",
       "      <td>64.2</td>\n",
       "      <td>64.4</td>\n",
       "      <td>67.8</td>\n",
       "      <td>64.7</td>\n",
       "      <td>65.8</td>\n",
       "      <td>66.7</td>\n",
       "      <td>67.0</td>\n",
       "      <td>64.3</td>\n",
       "      <td>60.4</td>\n",
       "      <td>57.9</td>\n",
       "      <td>59.7</td>\n",
       "    </tr>\n",
       "  </tbody>\n",
       "</table>\n",
       "</div>"
      ],
      "text/plain": [
       "                country  2005  2006  2007  2008  2009  2010  2011  2012  2013  \\\n",
       "0           Afghanistan   NaN   NaN   NaN  37.2  44.0  47.6  38.3  37.8  35.7   \n",
       "1                Angola   NaN   NaN   NaN   NaN   NaN   NaN  55.9  43.6  39.4   \n",
       "2               Albania   NaN   NaN  46.3   NaN  54.9  52.7  58.7  55.1  45.5   \n",
       "3  United Arab Emirates   NaN  67.3   NaN   NaN  68.7  71.0  71.2  72.2  66.2   \n",
       "4             Argentina   NaN  63.1  60.7  59.6  64.2  64.4  67.8  64.7  65.8   \n",
       "\n",
       "   2014  2015  2016  2017  2018  2019  \n",
       "0  31.3  39.8  42.2  26.6  26.9  25.7  \n",
       "1  37.9   NaN   NaN   NaN   NaN   NaN  \n",
       "2  48.1  46.1  45.1  46.4  50.0  48.8  \n",
       "3  65.4  65.7  68.3  70.4  66.0  67.9  \n",
       "4  66.7  67.0  64.3  60.4  57.9  59.7  "
      ]
     },
     "execution_count": 4,
     "metadata": {},
     "output_type": "execute_result"
    }
   ],
   "source": [
    "df_whr.head(5)"
   ]
  },
  {
   "cell_type": "code",
   "execution_count": 5,
   "metadata": {},
   "outputs": [
    {
     "data": {
      "text/html": [
       "<div>\n",
       "<style scoped>\n",
       "    .dataframe tbody tr th:only-of-type {\n",
       "        vertical-align: middle;\n",
       "    }\n",
       "\n",
       "    .dataframe tbody tr th {\n",
       "        vertical-align: top;\n",
       "    }\n",
       "\n",
       "    .dataframe thead th {\n",
       "        text-align: right;\n",
       "    }\n",
       "</style>\n",
       "<table border=\"1\" class=\"dataframe\">\n",
       "  <thead>\n",
       "    <tr style=\"text-align: right;\">\n",
       "      <th></th>\n",
       "      <th>country</th>\n",
       "      <th>1990</th>\n",
       "      <th>1991</th>\n",
       "      <th>1992</th>\n",
       "      <th>1993</th>\n",
       "      <th>1994</th>\n",
       "      <th>1995</th>\n",
       "      <th>1996</th>\n",
       "      <th>1997</th>\n",
       "      <th>1998</th>\n",
       "      <th>...</th>\n",
       "      <th>2009</th>\n",
       "      <th>2010</th>\n",
       "      <th>2011</th>\n",
       "      <th>2012</th>\n",
       "      <th>2013</th>\n",
       "      <th>2014</th>\n",
       "      <th>2015</th>\n",
       "      <th>2016</th>\n",
       "      <th>2017</th>\n",
       "      <th>2018</th>\n",
       "    </tr>\n",
       "  </thead>\n",
       "  <tbody>\n",
       "    <tr>\n",
       "      <th>0</th>\n",
       "      <td>Afghanistan</td>\n",
       "      <td>0.298</td>\n",
       "      <td>0.304</td>\n",
       "      <td>0.312</td>\n",
       "      <td>0.308</td>\n",
       "      <td>0.303</td>\n",
       "      <td>0.327</td>\n",
       "      <td>0.331</td>\n",
       "      <td>0.335</td>\n",
       "      <td>0.339</td>\n",
       "      <td>...</td>\n",
       "      <td>0.447</td>\n",
       "      <td>0.464</td>\n",
       "      <td>0.465</td>\n",
       "      <td>0.479</td>\n",
       "      <td>0.485</td>\n",
       "      <td>0.488</td>\n",
       "      <td>0.490</td>\n",
       "      <td>0.491</td>\n",
       "      <td>0.493</td>\n",
       "      <td>0.496</td>\n",
       "    </tr>\n",
       "    <tr>\n",
       "      <th>1</th>\n",
       "      <td>Angola</td>\n",
       "      <td>NaN</td>\n",
       "      <td>NaN</td>\n",
       "      <td>NaN</td>\n",
       "      <td>NaN</td>\n",
       "      <td>NaN</td>\n",
       "      <td>NaN</td>\n",
       "      <td>NaN</td>\n",
       "      <td>NaN</td>\n",
       "      <td>NaN</td>\n",
       "      <td>...</td>\n",
       "      <td>0.508</td>\n",
       "      <td>0.510</td>\n",
       "      <td>0.525</td>\n",
       "      <td>0.537</td>\n",
       "      <td>0.547</td>\n",
       "      <td>0.557</td>\n",
       "      <td>0.565</td>\n",
       "      <td>0.570</td>\n",
       "      <td>0.576</td>\n",
       "      <td>0.574</td>\n",
       "    </tr>\n",
       "    <tr>\n",
       "      <th>2</th>\n",
       "      <td>Albania</td>\n",
       "      <td>0.644</td>\n",
       "      <td>0.625</td>\n",
       "      <td>0.608</td>\n",
       "      <td>0.611</td>\n",
       "      <td>0.617</td>\n",
       "      <td>0.629</td>\n",
       "      <td>0.639</td>\n",
       "      <td>0.639</td>\n",
       "      <td>0.649</td>\n",
       "      <td>...</td>\n",
       "      <td>0.729</td>\n",
       "      <td>0.740</td>\n",
       "      <td>0.759</td>\n",
       "      <td>0.771</td>\n",
       "      <td>0.781</td>\n",
       "      <td>0.787</td>\n",
       "      <td>0.788</td>\n",
       "      <td>0.788</td>\n",
       "      <td>0.789</td>\n",
       "      <td>0.791</td>\n",
       "    </tr>\n",
       "    <tr>\n",
       "      <th>3</th>\n",
       "      <td>Andorra</td>\n",
       "      <td>NaN</td>\n",
       "      <td>NaN</td>\n",
       "      <td>NaN</td>\n",
       "      <td>NaN</td>\n",
       "      <td>NaN</td>\n",
       "      <td>NaN</td>\n",
       "      <td>NaN</td>\n",
       "      <td>NaN</td>\n",
       "      <td>NaN</td>\n",
       "      <td>...</td>\n",
       "      <td>0.830</td>\n",
       "      <td>0.828</td>\n",
       "      <td>0.827</td>\n",
       "      <td>0.849</td>\n",
       "      <td>0.846</td>\n",
       "      <td>0.853</td>\n",
       "      <td>0.850</td>\n",
       "      <td>0.854</td>\n",
       "      <td>0.852</td>\n",
       "      <td>0.857</td>\n",
       "    </tr>\n",
       "    <tr>\n",
       "      <th>4</th>\n",
       "      <td>United Arab Emirates</td>\n",
       "      <td>0.724</td>\n",
       "      <td>0.735</td>\n",
       "      <td>0.738</td>\n",
       "      <td>0.745</td>\n",
       "      <td>0.755</td>\n",
       "      <td>0.764</td>\n",
       "      <td>0.765</td>\n",
       "      <td>0.766</td>\n",
       "      <td>0.769</td>\n",
       "      <td>...</td>\n",
       "      <td>0.819</td>\n",
       "      <td>0.821</td>\n",
       "      <td>0.826</td>\n",
       "      <td>0.832</td>\n",
       "      <td>0.839</td>\n",
       "      <td>0.847</td>\n",
       "      <td>0.860</td>\n",
       "      <td>0.863</td>\n",
       "      <td>0.864</td>\n",
       "      <td>0.866</td>\n",
       "    </tr>\n",
       "  </tbody>\n",
       "</table>\n",
       "<p>5 rows × 30 columns</p>\n",
       "</div>"
      ],
      "text/plain": [
       "                country   1990   1991   1992   1993   1994   1995   1996  \\\n",
       "0           Afghanistan  0.298  0.304  0.312  0.308  0.303  0.327  0.331   \n",
       "1                Angola    NaN    NaN    NaN    NaN    NaN    NaN    NaN   \n",
       "2               Albania  0.644  0.625  0.608  0.611  0.617  0.629  0.639   \n",
       "3               Andorra    NaN    NaN    NaN    NaN    NaN    NaN    NaN   \n",
       "4  United Arab Emirates  0.724  0.735  0.738  0.745  0.755  0.764  0.765   \n",
       "\n",
       "    1997   1998  ...   2009   2010   2011   2012   2013   2014   2015   2016  \\\n",
       "0  0.335  0.339  ...  0.447  0.464  0.465  0.479  0.485  0.488  0.490  0.491   \n",
       "1    NaN    NaN  ...  0.508  0.510  0.525  0.537  0.547  0.557  0.565  0.570   \n",
       "2  0.639  0.649  ...  0.729  0.740  0.759  0.771  0.781  0.787  0.788  0.788   \n",
       "3    NaN    NaN  ...  0.830  0.828  0.827  0.849  0.846  0.853  0.850  0.854   \n",
       "4  0.766  0.769  ...  0.819  0.821  0.826  0.832  0.839  0.847  0.860  0.863   \n",
       "\n",
       "    2017   2018  \n",
       "0  0.493  0.496  \n",
       "1  0.576  0.574  \n",
       "2  0.789  0.791  \n",
       "3  0.852  0.857  \n",
       "4  0.864  0.866  \n",
       "\n",
       "[5 rows x 30 columns]"
      ]
     },
     "execution_count": 5,
     "metadata": {},
     "output_type": "execute_result"
    }
   ],
   "source": [
    "df_hdi.head(5)"
   ]
  },
  {
   "cell_type": "markdown",
   "metadata": {},
   "source": [
    "#### we have three datasets:\n",
    "> : the data contains a values of human development index and the income and the happy score to each year in each country\n"
   ]
  },
  {
   "cell_type": "markdown",
   "metadata": {},
   "source": [
    "\n",
    "### Data Cleaning (Replace this with more specific notes!)"
   ]
  },
  {
   "cell_type": "markdown",
   "metadata": {},
   "source": [
    "#### first we will check at the missing values"
   ]
  },
  {
   "cell_type": "code",
   "execution_count": 6,
   "metadata": {},
   "outputs": [
    {
     "data": {
      "text/plain": [
       "0"
      ]
     },
     "execution_count": 6,
     "metadata": {},
     "output_type": "execute_result"
    }
   ],
   "source": [
    "df_income.isnull().any().sum()"
   ]
  },
  {
   "cell_type": "code",
   "execution_count": 7,
   "metadata": {},
   "outputs": [
    {
     "data": {
      "text/plain": [
       "15"
      ]
     },
     "execution_count": 7,
     "metadata": {},
     "output_type": "execute_result"
    }
   ],
   "source": [
    "df_whr.isnull().any().sum()"
   ]
  },
  {
   "cell_type": "code",
   "execution_count": 8,
   "metadata": {},
   "outputs": [
    {
     "data": {
      "text/plain": [
       "27"
      ]
     },
     "execution_count": 8,
     "metadata": {},
     "output_type": "execute_result"
    }
   ],
   "source": [
    "df_hdi.isnull().any().sum()"
   ]
  },
  {
   "cell_type": "markdown",
   "metadata": {},
   "source": [
    "#### we see that there is a missing values, we will choose to fill it but... we will fill every na value to the mean of the row in whr, because if we drop it we will have no rows...\n",
    "#### and in hdi , we will drop it"
   ]
  },
  {
   "cell_type": "code",
   "execution_count": 9,
   "metadata": {},
   "outputs": [],
   "source": [
    "# a way to fill null values with mean row\n",
    "df_whr = df_whr.T.fillna(df_whr.mean(axis=1)).T\n",
    "df_hdi.dropna(axis=0,inplace=True)"
   ]
  },
  {
   "cell_type": "markdown",
   "metadata": {},
   "source": [
    "#### phew... there is no duplicated countries"
   ]
  },
  {
   "cell_type": "code",
   "execution_count": 10,
   "metadata": {},
   "outputs": [
    {
     "data": {
      "text/plain": [
       "0"
      ]
     },
     "execution_count": 10,
     "metadata": {},
     "output_type": "execute_result"
    }
   ],
   "source": [
    "df_income.duplicated().any().sum()"
   ]
  },
  {
   "cell_type": "code",
   "execution_count": 11,
   "metadata": {},
   "outputs": [
    {
     "data": {
      "text/plain": [
       "0"
      ]
     },
     "execution_count": 11,
     "metadata": {},
     "output_type": "execute_result"
    }
   ],
   "source": [
    "df_whr.duplicated().any().sum()"
   ]
  },
  {
   "cell_type": "code",
   "execution_count": 12,
   "metadata": {},
   "outputs": [
    {
     "data": {
      "text/plain": [
       "0"
      ]
     },
     "execution_count": 12,
     "metadata": {},
     "output_type": "execute_result"
    }
   ],
   "source": [
    "df_hdi.duplicated().any().sum()"
   ]
  },
  {
   "cell_type": "markdown",
   "metadata": {},
   "source": [
    "##### in this part we will crop the datasets, to allign to each other *we choose 2005 because whr does not have any data before this year, and we choose 2018 because hdi does not have any data after this year*"
   ]
  },
  {
   "cell_type": "code",
   "execution_count": 13,
   "metadata": {},
   "outputs": [],
   "source": [
    "df_whr = df_whr.iloc[:,np.r_[0,df_whr.columns.get_loc('2005'):df_whr.columns.get_loc('2018')+1]].copy()\n",
    "df_hdi = df_hdi.iloc[:,np.r_[0,df_hdi.columns.get_loc('2005'):df_hdi.columns.get_loc('2018')+1]].copy()\n",
    "df_income = df_income.iloc[:,np.r_[0,df_income.columns.get_loc('2005'):df_income.columns.get_loc('2018')+1]].copy()"
   ]
  },
  {
   "cell_type": "markdown",
   "metadata": {},
   "source": [
    "#### checking for data types..."
   ]
  },
  {
   "cell_type": "code",
   "execution_count": 14,
   "metadata": {},
   "outputs": [
    {
     "name": "stdout",
     "output_type": "stream",
     "text": [
      "<class 'pandas.core.frame.DataFrame'>\n",
      "RangeIndex: 195 entries, 0 to 194\n",
      "Data columns (total 15 columns):\n",
      "country    195 non-null object\n",
      "2005       195 non-null object\n",
      "2006       195 non-null object\n",
      "2007       195 non-null object\n",
      "2008       195 non-null object\n",
      "2009       195 non-null object\n",
      "2010       195 non-null object\n",
      "2011       195 non-null object\n",
      "2012       195 non-null object\n",
      "2013       195 non-null object\n",
      "2014       195 non-null object\n",
      "2015       195 non-null object\n",
      "2016       195 non-null object\n",
      "2017       195 non-null object\n",
      "2018       195 non-null object\n",
      "dtypes: object(15)\n",
      "memory usage: 23.0+ KB\n"
     ]
    }
   ],
   "source": [
    "df_income.info()"
   ]
  },
  {
   "cell_type": "code",
   "execution_count": 15,
   "metadata": {},
   "outputs": [
    {
     "name": "stdout",
     "output_type": "stream",
     "text": [
      "<class 'pandas.core.frame.DataFrame'>\n",
      "RangeIndex: 163 entries, 0 to 162\n",
      "Data columns (total 15 columns):\n",
      "country    163 non-null object\n",
      "2005       163 non-null object\n",
      "2006       163 non-null object\n",
      "2007       163 non-null object\n",
      "2008       163 non-null object\n",
      "2009       163 non-null object\n",
      "2010       163 non-null object\n",
      "2011       163 non-null object\n",
      "2012       163 non-null object\n",
      "2013       163 non-null object\n",
      "2014       163 non-null object\n",
      "2015       163 non-null object\n",
      "2016       163 non-null object\n",
      "2017       163 non-null object\n",
      "2018       163 non-null object\n",
      "dtypes: object(15)\n",
      "memory usage: 19.2+ KB\n"
     ]
    }
   ],
   "source": [
    "df_whr.info()"
   ]
  },
  {
   "cell_type": "code",
   "execution_count": 16,
   "metadata": {},
   "outputs": [
    {
     "name": "stdout",
     "output_type": "stream",
     "text": [
      "<class 'pandas.core.frame.DataFrame'>\n",
      "Int64Index: 143 entries, 0 to 188\n",
      "Data columns (total 15 columns):\n",
      "country    143 non-null object\n",
      "2005       143 non-null float64\n",
      "2006       143 non-null float64\n",
      "2007       143 non-null float64\n",
      "2008       143 non-null float64\n",
      "2009       143 non-null float64\n",
      "2010       143 non-null float64\n",
      "2011       143 non-null float64\n",
      "2012       143 non-null float64\n",
      "2013       143 non-null float64\n",
      "2014       143 non-null float64\n",
      "2015       143 non-null float64\n",
      "2016       143 non-null float64\n",
      "2017       143 non-null float64\n",
      "2018       143 non-null float64\n",
      "dtypes: float64(14), object(1)\n",
      "memory usage: 17.9+ KB\n"
     ]
    }
   ],
   "source": [
    "df_hdi.info()"
   ]
  },
  {
   "cell_type": "markdown",
   "metadata": {},
   "source": [
    "#### we see that the income,whr dataframes have an string instead of float"
   ]
  },
  {
   "cell_type": "code",
   "execution_count": 17,
   "metadata": {},
   "outputs": [
    {
     "data": {
      "text/html": [
       "<div>\n",
       "<style scoped>\n",
       "    .dataframe tbody tr th:only-of-type {\n",
       "        vertical-align: middle;\n",
       "    }\n",
       "\n",
       "    .dataframe tbody tr th {\n",
       "        vertical-align: top;\n",
       "    }\n",
       "\n",
       "    .dataframe thead th {\n",
       "        text-align: right;\n",
       "    }\n",
       "</style>\n",
       "<table border=\"1\" class=\"dataframe\">\n",
       "  <thead>\n",
       "    <tr style=\"text-align: right;\">\n",
       "      <th></th>\n",
       "      <th>2005</th>\n",
       "      <th>2006</th>\n",
       "      <th>2007</th>\n",
       "      <th>2008</th>\n",
       "      <th>2009</th>\n",
       "      <th>2010</th>\n",
       "      <th>2011</th>\n",
       "      <th>2012</th>\n",
       "      <th>2013</th>\n",
       "      <th>2014</th>\n",
       "      <th>2015</th>\n",
       "      <th>2016</th>\n",
       "      <th>2017</th>\n",
       "      <th>2018</th>\n",
       "    </tr>\n",
       "  </thead>\n",
       "  <tbody>\n",
       "    <tr>\n",
       "      <th>0</th>\n",
       "      <td>1100</td>\n",
       "      <td>1120</td>\n",
       "      <td>1250</td>\n",
       "      <td>1270</td>\n",
       "      <td>1500</td>\n",
       "      <td>1670</td>\n",
       "      <td>1630</td>\n",
       "      <td>1770</td>\n",
       "      <td>1810</td>\n",
       "      <td>1800</td>\n",
       "      <td>1770</td>\n",
       "      <td>1760</td>\n",
       "      <td>1760</td>\n",
       "      <td>1740</td>\n",
       "    </tr>\n",
       "    <tr>\n",
       "      <th>1</th>\n",
       "      <td>5110</td>\n",
       "      <td>5500</td>\n",
       "      <td>6040</td>\n",
       "      <td>6470</td>\n",
       "      <td>6290</td>\n",
       "      <td>6360</td>\n",
       "      <td>6350</td>\n",
       "      <td>6650</td>\n",
       "      <td>6730</td>\n",
       "      <td>6810</td>\n",
       "      <td>6650</td>\n",
       "      <td>6260</td>\n",
       "      <td>6050</td>\n",
       "      <td>5730</td>\n",
       "    </tr>\n",
       "    <tr>\n",
       "      <th>2</th>\n",
       "      <td>7430</td>\n",
       "      <td>7910</td>\n",
       "      <td>8450</td>\n",
       "      <td>9160</td>\n",
       "      <td>9530</td>\n",
       "      <td>9930</td>\n",
       "      <td>10.2k</td>\n",
       "      <td>10.4k</td>\n",
       "      <td>10.5k</td>\n",
       "      <td>10.7k</td>\n",
       "      <td>11k</td>\n",
       "      <td>11.4k</td>\n",
       "      <td>11.8k</td>\n",
       "      <td>12.3k</td>\n",
       "    </tr>\n",
       "    <tr>\n",
       "      <th>3</th>\n",
       "      <td>39.8k</td>\n",
       "      <td>42.7k</td>\n",
       "      <td>43.4k</td>\n",
       "      <td>41.4k</td>\n",
       "      <td>41.7k</td>\n",
       "      <td>39k</td>\n",
       "      <td>42k</td>\n",
       "      <td>41.9k</td>\n",
       "      <td>43.7k</td>\n",
       "      <td>44.9k</td>\n",
       "      <td>46.6k</td>\n",
       "      <td>48.2k</td>\n",
       "      <td>49.8k</td>\n",
       "      <td>51.5k</td>\n",
       "    </tr>\n",
       "    <tr>\n",
       "      <th>4</th>\n",
       "      <td>91.6k</td>\n",
       "      <td>87.1k</td>\n",
       "      <td>77.2k</td>\n",
       "      <td>69.4k</td>\n",
       "      <td>58.8k</td>\n",
       "      <td>55.4k</td>\n",
       "      <td>56.6k</td>\n",
       "      <td>57.9k</td>\n",
       "      <td>60.4k</td>\n",
       "      <td>62.9k</td>\n",
       "      <td>65.8k</td>\n",
       "      <td>67k</td>\n",
       "      <td>66.7k</td>\n",
       "      <td>66.6k</td>\n",
       "    </tr>\n",
       "    <tr>\n",
       "      <th>...</th>\n",
       "      <td>...</td>\n",
       "      <td>...</td>\n",
       "      <td>...</td>\n",
       "      <td>...</td>\n",
       "      <td>...</td>\n",
       "      <td>...</td>\n",
       "      <td>...</td>\n",
       "      <td>...</td>\n",
       "      <td>...</td>\n",
       "      <td>...</td>\n",
       "      <td>...</td>\n",
       "      <td>...</td>\n",
       "      <td>...</td>\n",
       "      <td>...</td>\n",
       "    </tr>\n",
       "    <tr>\n",
       "      <th>190</th>\n",
       "      <td>5340</td>\n",
       "      <td>5410</td>\n",
       "      <td>5720</td>\n",
       "      <td>5740</td>\n",
       "      <td>5420</td>\n",
       "      <td>5410</td>\n",
       "      <td>5670</td>\n",
       "      <td>5650</td>\n",
       "      <td>5490</td>\n",
       "      <td>5520</td>\n",
       "      <td>5570</td>\n",
       "      <td>5940</td>\n",
       "      <td>6070</td>\n",
       "      <td>6090</td>\n",
       "    </tr>\n",
       "    <tr>\n",
       "      <th>191</th>\n",
       "      <td>4250</td>\n",
       "      <td>4270</td>\n",
       "      <td>4290</td>\n",
       "      <td>4320</td>\n",
       "      <td>4360</td>\n",
       "      <td>4570</td>\n",
       "      <td>3880</td>\n",
       "      <td>3860</td>\n",
       "      <td>3940</td>\n",
       "      <td>3830</td>\n",
       "      <td>3110</td>\n",
       "      <td>2620</td>\n",
       "      <td>2400</td>\n",
       "      <td>2360</td>\n",
       "    </tr>\n",
       "    <tr>\n",
       "      <th>192</th>\n",
       "      <td>11k</td>\n",
       "      <td>11.5k</td>\n",
       "      <td>11.9k</td>\n",
       "      <td>12.1k</td>\n",
       "      <td>11.8k</td>\n",
       "      <td>12k</td>\n",
       "      <td>12.2k</td>\n",
       "      <td>12.3k</td>\n",
       "      <td>12.4k</td>\n",
       "      <td>12.4k</td>\n",
       "      <td>12.4k</td>\n",
       "      <td>12.2k</td>\n",
       "      <td>12.2k</td>\n",
       "      <td>12.1k</td>\n",
       "    </tr>\n",
       "    <tr>\n",
       "      <th>193</th>\n",
       "      <td>2520</td>\n",
       "      <td>2650</td>\n",
       "      <td>2800</td>\n",
       "      <td>2930</td>\n",
       "      <td>3120</td>\n",
       "      <td>3340</td>\n",
       "      <td>3420</td>\n",
       "      <td>3570</td>\n",
       "      <td>3630</td>\n",
       "      <td>3690</td>\n",
       "      <td>3680</td>\n",
       "      <td>3700</td>\n",
       "      <td>3720</td>\n",
       "      <td>3740</td>\n",
       "    </tr>\n",
       "    <tr>\n",
       "      <th>194</th>\n",
       "      <td>1980</td>\n",
       "      <td>1890</td>\n",
       "      <td>1810</td>\n",
       "      <td>1480</td>\n",
       "      <td>1630</td>\n",
       "      <td>1930</td>\n",
       "      <td>2170</td>\n",
       "      <td>2490</td>\n",
       "      <td>2490</td>\n",
       "      <td>2510</td>\n",
       "      <td>2510</td>\n",
       "      <td>2490</td>\n",
       "      <td>2570</td>\n",
       "      <td>2620</td>\n",
       "    </tr>\n",
       "  </tbody>\n",
       "</table>\n",
       "<p>195 rows × 14 columns</p>\n",
       "</div>"
      ],
      "text/plain": [
       "      2005   2006   2007   2008   2009   2010   2011   2012   2013   2014  \\\n",
       "0     1100   1120   1250   1270   1500   1670   1630   1770   1810   1800   \n",
       "1     5110   5500   6040   6470   6290   6360   6350   6650   6730   6810   \n",
       "2     7430   7910   8450   9160   9530   9930  10.2k  10.4k  10.5k  10.7k   \n",
       "3    39.8k  42.7k  43.4k  41.4k  41.7k    39k    42k  41.9k  43.7k  44.9k   \n",
       "4    91.6k  87.1k  77.2k  69.4k  58.8k  55.4k  56.6k  57.9k  60.4k  62.9k   \n",
       "..     ...    ...    ...    ...    ...    ...    ...    ...    ...    ...   \n",
       "190   5340   5410   5720   5740   5420   5410   5670   5650   5490   5520   \n",
       "191   4250   4270   4290   4320   4360   4570   3880   3860   3940   3830   \n",
       "192    11k  11.5k  11.9k  12.1k  11.8k    12k  12.2k  12.3k  12.4k  12.4k   \n",
       "193   2520   2650   2800   2930   3120   3340   3420   3570   3630   3690   \n",
       "194   1980   1890   1810   1480   1630   1930   2170   2490   2490   2510   \n",
       "\n",
       "      2015   2016   2017   2018  \n",
       "0     1770   1760   1760   1740  \n",
       "1     6650   6260   6050   5730  \n",
       "2      11k  11.4k  11.8k  12.3k  \n",
       "3    46.6k  48.2k  49.8k  51.5k  \n",
       "4    65.8k    67k  66.7k  66.6k  \n",
       "..     ...    ...    ...    ...  \n",
       "190   5570   5940   6070   6090  \n",
       "191   3110   2620   2400   2360  \n",
       "192  12.4k  12.2k  12.2k  12.1k  \n",
       "193   3680   3700   3720   3740  \n",
       "194   2510   2490   2570   2620  \n",
       "\n",
       "[195 rows x 14 columns]"
      ]
     },
     "execution_count": 17,
     "metadata": {},
     "output_type": "execute_result"
    }
   ],
   "source": [
    "# we are having a problem here, which is the type of the data is string, also there is letter (k) for 1000 \n",
    "df_income.iloc[:,1:]"
   ]
  },
  {
   "cell_type": "markdown",
   "metadata": {},
   "source": [
    "#### to change the type , we need to make sure that data cells with letter \"k\" is transformed to original form"
   ]
  },
  {
   "cell_type": "code",
   "execution_count": 18,
   "metadata": {},
   "outputs": [
    {
     "name": "stderr",
     "output_type": "stream",
     "text": [
      "C:\\Users\\MrSwi\\AppData\\Roaming\\Python\\Python37\\site-packages\\ipykernel_launcher.py:7: SettingWithCopyWarning: \n",
      "A value is trying to be set on a copy of a slice from a DataFrame\n",
      "\n",
      "See the caveats in the documentation: http://pandas.pydata.org/pandas-docs/stable/user_guide/indexing.html#returning-a-view-versus-a-copy\n",
      "  import sys\n"
     ]
    }
   ],
   "source": [
    "# here we changing the dtype for income because we are having an issue which is the data is object('string')\n",
    "df_income_float = df_income.copy()\n",
    "for col in df_income_float.iloc[:,1:]:\n",
    "    for i in range(df_income_float.shape[0]):\n",
    "        # here we are changing the k to 1000 \n",
    "        if \"k\" in str(df_income_float[col][i]):\n",
    "            df_income_float[col][i] = (float(df_income_float[col][i].replace('k',''))*1000) \n",
    "    #changing every col to float type\n",
    "    df_income_float[col] = df_income_float[col].copy().astype(float)"
   ]
  },
  {
   "cell_type": "code",
   "execution_count": 19,
   "metadata": {},
   "outputs": [],
   "source": [
    "for col in df_whr.iloc[:,1:]:\n",
    "    df_whr[col] = df_whr[col].copy().astype(float)"
   ]
  },
  {
   "cell_type": "markdown",
   "metadata": {},
   "source": [
    "#### Now its all fine ! "
   ]
  },
  {
   "cell_type": "code",
   "execution_count": 20,
   "metadata": {},
   "outputs": [
    {
     "name": "stdout",
     "output_type": "stream",
     "text": [
      "<class 'pandas.core.frame.DataFrame'>\n",
      "RangeIndex: 195 entries, 0 to 194\n",
      "Data columns (total 15 columns):\n",
      "country    195 non-null object\n",
      "2005       195 non-null float64\n",
      "2006       195 non-null float64\n",
      "2007       195 non-null float64\n",
      "2008       195 non-null float64\n",
      "2009       195 non-null float64\n",
      "2010       195 non-null float64\n",
      "2011       195 non-null float64\n",
      "2012       195 non-null float64\n",
      "2013       195 non-null float64\n",
      "2014       195 non-null float64\n",
      "2015       195 non-null float64\n",
      "2016       195 non-null float64\n",
      "2017       195 non-null float64\n",
      "2018       195 non-null float64\n",
      "dtypes: float64(14), object(1)\n",
      "memory usage: 23.0+ KB\n"
     ]
    }
   ],
   "source": [
    "df_income_float.info()"
   ]
  },
  {
   "cell_type": "code",
   "execution_count": 21,
   "metadata": {},
   "outputs": [
    {
     "name": "stdout",
     "output_type": "stream",
     "text": [
      "<class 'pandas.core.frame.DataFrame'>\n",
      "RangeIndex: 163 entries, 0 to 162\n",
      "Data columns (total 15 columns):\n",
      "country    163 non-null object\n",
      "2005       163 non-null float64\n",
      "2006       163 non-null float64\n",
      "2007       163 non-null float64\n",
      "2008       163 non-null float64\n",
      "2009       163 non-null float64\n",
      "2010       163 non-null float64\n",
      "2011       163 non-null float64\n",
      "2012       163 non-null float64\n",
      "2013       163 non-null float64\n",
      "2014       163 non-null float64\n",
      "2015       163 non-null float64\n",
      "2016       163 non-null float64\n",
      "2017       163 non-null float64\n",
      "2018       163 non-null float64\n",
      "dtypes: float64(14), object(1)\n",
      "memory usage: 19.2+ KB\n"
     ]
    }
   ],
   "source": [
    "df_whr.info()"
   ]
  },
  {
   "cell_type": "markdown",
   "metadata": {},
   "source": [
    "#### checking that every data without k still the same and checking that every data with k is transformed..."
   ]
  },
  {
   "cell_type": "code",
   "execution_count": 22,
   "metadata": {},
   "outputs": [
    {
     "data": {
      "text/plain": [
       "True"
      ]
     },
     "execution_count": 22,
     "metadata": {},
     "output_type": "execute_result"
    }
   ],
   "source": [
    "# making sure that the iteration does not affect the values without \"k\"\n",
    "float(df_income['2006'][0]) == df_income_float['2006'][0]"
   ]
  },
  {
   "cell_type": "code",
   "execution_count": 23,
   "metadata": {},
   "outputs": [
    {
     "data": {
      "text/plain": [
       "'87.1k'"
      ]
     },
     "execution_count": 23,
     "metadata": {},
     "output_type": "execute_result"
    }
   ],
   "source": [
    "df_income['2006'][4]"
   ]
  },
  {
   "cell_type": "code",
   "execution_count": 24,
   "metadata": {},
   "outputs": [
    {
     "data": {
      "text/plain": [
       "87100.0"
      ]
     },
     "execution_count": 24,
     "metadata": {},
     "output_type": "execute_result"
    }
   ],
   "source": [
    "df_income_float['2006'][4]"
   ]
  },
  {
   "cell_type": "code",
   "execution_count": 25,
   "metadata": {},
   "outputs": [],
   "source": [
    "df_income = df_income_float.copy()"
   ]
  },
  {
   "cell_type": "markdown",
   "metadata": {},
   "source": [
    "#### here we gonna make versions of datasets \n",
    "\n",
    "> : we will make sure that the three datasets (income,whr,hdi) is the same because we will need them later\n",
    "\n",
    "> : we will make is to allign all 3 variables (hdi,whr,income) with each other without handling the information of (country,year)"
   ]
  },
  {
   "cell_type": "markdown",
   "metadata": {},
   "source": [
    "#### in under cell we will rename every year columns in each dataframe to the data frame which will help us to the next part"
   ]
  },
  {
   "cell_type": "code",
   "execution_count": 26,
   "metadata": {},
   "outputs": [],
   "source": [
    "# renaming every dataframe to merge it \n",
    "df_whr.rename(columns=lambda x: x[:10] + '_whr',inplace=True)\n",
    "df_hdi.rename(columns=lambda x: x[:10] + '_hdi',inplace=True)\n",
    "df_income.rename(columns=lambda x: x[:10] + '_income',inplace=True)\n",
    "## renaming the country to merge it, with union cell\n",
    "df_whr.rename(columns={'country_whr':'country'},inplace=True)\n",
    "df_hdi.rename(columns={'country_hdi':'country'},inplace=True)\n",
    "df_income.rename(columns={'country_income':'country'},inplace=True)"
   ]
  },
  {
   "cell_type": "markdown",
   "metadata": {},
   "source": [
    "#### merging... this is the first version"
   ]
  },
  {
   "cell_type": "code",
   "execution_count": 27,
   "metadata": {},
   "outputs": [],
   "source": [
    "# inner join to all the dataframes\n",
    "df= df_whr.merge(df_hdi,on='country')\n",
    "df= df.merge(df_income,on='country')"
   ]
  },
  {
   "cell_type": "code",
   "execution_count": 28,
   "metadata": {},
   "outputs": [
    {
     "data": {
      "text/html": [
       "<div>\n",
       "<style scoped>\n",
       "    .dataframe tbody tr th:only-of-type {\n",
       "        vertical-align: middle;\n",
       "    }\n",
       "\n",
       "    .dataframe tbody tr th {\n",
       "        vertical-align: top;\n",
       "    }\n",
       "\n",
       "    .dataframe thead th {\n",
       "        text-align: right;\n",
       "    }\n",
       "</style>\n",
       "<table border=\"1\" class=\"dataframe\">\n",
       "  <thead>\n",
       "    <tr style=\"text-align: right;\">\n",
       "      <th></th>\n",
       "      <th>country</th>\n",
       "      <th>2005_whr</th>\n",
       "      <th>2006_whr</th>\n",
       "      <th>2007_whr</th>\n",
       "      <th>2008_whr</th>\n",
       "      <th>2009_whr</th>\n",
       "      <th>2010_whr</th>\n",
       "      <th>2011_whr</th>\n",
       "      <th>2012_whr</th>\n",
       "      <th>2013_whr</th>\n",
       "      <th>...</th>\n",
       "      <th>2009_income</th>\n",
       "      <th>2010_income</th>\n",
       "      <th>2011_income</th>\n",
       "      <th>2012_income</th>\n",
       "      <th>2013_income</th>\n",
       "      <th>2014_income</th>\n",
       "      <th>2015_income</th>\n",
       "      <th>2016_income</th>\n",
       "      <th>2017_income</th>\n",
       "      <th>2018_income</th>\n",
       "    </tr>\n",
       "  </thead>\n",
       "  <tbody>\n",
       "    <tr>\n",
       "      <th>0</th>\n",
       "      <td>Afghanistan</td>\n",
       "      <td>36.091667</td>\n",
       "      <td>36.091667</td>\n",
       "      <td>36.091667</td>\n",
       "      <td>37.200000</td>\n",
       "      <td>44.0</td>\n",
       "      <td>47.600000</td>\n",
       "      <td>38.3</td>\n",
       "      <td>37.8</td>\n",
       "      <td>35.7</td>\n",
       "      <td>...</td>\n",
       "      <td>1500.0</td>\n",
       "      <td>1670.0</td>\n",
       "      <td>1630.0</td>\n",
       "      <td>1770.0</td>\n",
       "      <td>1810.0</td>\n",
       "      <td>1800.0</td>\n",
       "      <td>1770.0</td>\n",
       "      <td>1760.0</td>\n",
       "      <td>1760.0</td>\n",
       "      <td>1740.0</td>\n",
       "    </tr>\n",
       "    <tr>\n",
       "      <th>1</th>\n",
       "      <td>Albania</td>\n",
       "      <td>49.808333</td>\n",
       "      <td>49.808333</td>\n",
       "      <td>46.300000</td>\n",
       "      <td>49.808333</td>\n",
       "      <td>54.9</td>\n",
       "      <td>52.700000</td>\n",
       "      <td>58.7</td>\n",
       "      <td>55.1</td>\n",
       "      <td>45.5</td>\n",
       "      <td>...</td>\n",
       "      <td>9530.0</td>\n",
       "      <td>9930.0</td>\n",
       "      <td>10200.0</td>\n",
       "      <td>10400.0</td>\n",
       "      <td>10500.0</td>\n",
       "      <td>10700.0</td>\n",
       "      <td>11000.0</td>\n",
       "      <td>11400.0</td>\n",
       "      <td>11800.0</td>\n",
       "      <td>12300.0</td>\n",
       "    </tr>\n",
       "    <tr>\n",
       "      <th>2</th>\n",
       "      <td>United Arab Emirates</td>\n",
       "      <td>68.358333</td>\n",
       "      <td>67.300000</td>\n",
       "      <td>68.358333</td>\n",
       "      <td>68.358333</td>\n",
       "      <td>68.7</td>\n",
       "      <td>71.000000</td>\n",
       "      <td>71.2</td>\n",
       "      <td>72.2</td>\n",
       "      <td>66.2</td>\n",
       "      <td>...</td>\n",
       "      <td>58800.0</td>\n",
       "      <td>55400.0</td>\n",
       "      <td>56600.0</td>\n",
       "      <td>57900.0</td>\n",
       "      <td>60400.0</td>\n",
       "      <td>62900.0</td>\n",
       "      <td>65800.0</td>\n",
       "      <td>67000.0</td>\n",
       "      <td>66700.0</td>\n",
       "      <td>66600.0</td>\n",
       "    </tr>\n",
       "    <tr>\n",
       "      <th>3</th>\n",
       "      <td>Argentina</td>\n",
       "      <td>63.307143</td>\n",
       "      <td>63.100000</td>\n",
       "      <td>60.700000</td>\n",
       "      <td>59.600000</td>\n",
       "      <td>64.2</td>\n",
       "      <td>64.400000</td>\n",
       "      <td>67.8</td>\n",
       "      <td>64.7</td>\n",
       "      <td>65.8</td>\n",
       "      <td>...</td>\n",
       "      <td>17300.0</td>\n",
       "      <td>18900.0</td>\n",
       "      <td>19800.0</td>\n",
       "      <td>19400.0</td>\n",
       "      <td>19600.0</td>\n",
       "      <td>18900.0</td>\n",
       "      <td>19200.0</td>\n",
       "      <td>18600.0</td>\n",
       "      <td>18900.0</td>\n",
       "      <td>18300.0</td>\n",
       "    </tr>\n",
       "    <tr>\n",
       "      <th>4</th>\n",
       "      <td>Armenia</td>\n",
       "      <td>44.564286</td>\n",
       "      <td>42.900000</td>\n",
       "      <td>48.800000</td>\n",
       "      <td>46.500000</td>\n",
       "      <td>41.8</td>\n",
       "      <td>43.700000</td>\n",
       "      <td>42.6</td>\n",
       "      <td>43.2</td>\n",
       "      <td>42.8</td>\n",
       "      <td>...</td>\n",
       "      <td>6530.0</td>\n",
       "      <td>6700.0</td>\n",
       "      <td>7020.0</td>\n",
       "      <td>7510.0</td>\n",
       "      <td>7720.0</td>\n",
       "      <td>7950.0</td>\n",
       "      <td>8170.0</td>\n",
       "      <td>8160.0</td>\n",
       "      <td>8750.0</td>\n",
       "      <td>9180.0</td>\n",
       "    </tr>\n",
       "    <tr>\n",
       "      <th>...</th>\n",
       "      <td>...</td>\n",
       "      <td>...</td>\n",
       "      <td>...</td>\n",
       "      <td>...</td>\n",
       "      <td>...</td>\n",
       "      <td>...</td>\n",
       "      <td>...</td>\n",
       "      <td>...</td>\n",
       "      <td>...</td>\n",
       "      <td>...</td>\n",
       "      <td>...</td>\n",
       "      <td>...</td>\n",
       "      <td>...</td>\n",
       "      <td>...</td>\n",
       "      <td>...</td>\n",
       "      <td>...</td>\n",
       "      <td>...</td>\n",
       "      <td>...</td>\n",
       "      <td>...</td>\n",
       "      <td>...</td>\n",
       "      <td>...</td>\n",
       "    </tr>\n",
       "    <tr>\n",
       "      <th>131</th>\n",
       "      <td>Vietnam</td>\n",
       "      <td>52.971429</td>\n",
       "      <td>52.900000</td>\n",
       "      <td>54.200000</td>\n",
       "      <td>54.800000</td>\n",
       "      <td>53.0</td>\n",
       "      <td>53.000000</td>\n",
       "      <td>57.7</td>\n",
       "      <td>55.3</td>\n",
       "      <td>50.2</td>\n",
       "      <td>...</td>\n",
       "      <td>4210.0</td>\n",
       "      <td>4430.0</td>\n",
       "      <td>4660.0</td>\n",
       "      <td>4860.0</td>\n",
       "      <td>5070.0</td>\n",
       "      <td>5310.0</td>\n",
       "      <td>5610.0</td>\n",
       "      <td>5900.0</td>\n",
       "      <td>6230.0</td>\n",
       "      <td>6610.0</td>\n",
       "    </tr>\n",
       "    <tr>\n",
       "      <th>132</th>\n",
       "      <td>Yemen</td>\n",
       "      <td>38.575000</td>\n",
       "      <td>38.575000</td>\n",
       "      <td>44.800000</td>\n",
       "      <td>38.575000</td>\n",
       "      <td>48.1</td>\n",
       "      <td>43.500000</td>\n",
       "      <td>37.5</td>\n",
       "      <td>40.6</td>\n",
       "      <td>42.2</td>\n",
       "      <td>...</td>\n",
       "      <td>4360.0</td>\n",
       "      <td>4570.0</td>\n",
       "      <td>3880.0</td>\n",
       "      <td>3860.0</td>\n",
       "      <td>3940.0</td>\n",
       "      <td>3830.0</td>\n",
       "      <td>3110.0</td>\n",
       "      <td>2620.0</td>\n",
       "      <td>2400.0</td>\n",
       "      <td>2360.0</td>\n",
       "    </tr>\n",
       "    <tr>\n",
       "      <th>133</th>\n",
       "      <td>South Africa</td>\n",
       "      <td>48.507143</td>\n",
       "      <td>50.800000</td>\n",
       "      <td>52.000000</td>\n",
       "      <td>53.500000</td>\n",
       "      <td>52.2</td>\n",
       "      <td>46.500000</td>\n",
       "      <td>49.3</td>\n",
       "      <td>51.3</td>\n",
       "      <td>36.6</td>\n",
       "      <td>...</td>\n",
       "      <td>11800.0</td>\n",
       "      <td>12000.0</td>\n",
       "      <td>12200.0</td>\n",
       "      <td>12300.0</td>\n",
       "      <td>12400.0</td>\n",
       "      <td>12400.0</td>\n",
       "      <td>12400.0</td>\n",
       "      <td>12200.0</td>\n",
       "      <td>12200.0</td>\n",
       "      <td>12100.0</td>\n",
       "    </tr>\n",
       "    <tr>\n",
       "      <th>134</th>\n",
       "      <td>Zambia</td>\n",
       "      <td>45.638462</td>\n",
       "      <td>48.200000</td>\n",
       "      <td>40.000000</td>\n",
       "      <td>47.300000</td>\n",
       "      <td>52.6</td>\n",
       "      <td>45.638462</td>\n",
       "      <td>50.0</td>\n",
       "      <td>50.1</td>\n",
       "      <td>52.4</td>\n",
       "      <td>...</td>\n",
       "      <td>3120.0</td>\n",
       "      <td>3340.0</td>\n",
       "      <td>3420.0</td>\n",
       "      <td>3570.0</td>\n",
       "      <td>3630.0</td>\n",
       "      <td>3690.0</td>\n",
       "      <td>3680.0</td>\n",
       "      <td>3700.0</td>\n",
       "      <td>3720.0</td>\n",
       "      <td>3740.0</td>\n",
       "    </tr>\n",
       "    <tr>\n",
       "      <th>135</th>\n",
       "      <td>Zimbabwe</td>\n",
       "      <td>39.785714</td>\n",
       "      <td>38.300000</td>\n",
       "      <td>32.800000</td>\n",
       "      <td>31.700000</td>\n",
       "      <td>40.6</td>\n",
       "      <td>46.800000</td>\n",
       "      <td>48.5</td>\n",
       "      <td>49.6</td>\n",
       "      <td>46.9</td>\n",
       "      <td>...</td>\n",
       "      <td>1630.0</td>\n",
       "      <td>1930.0</td>\n",
       "      <td>2170.0</td>\n",
       "      <td>2490.0</td>\n",
       "      <td>2490.0</td>\n",
       "      <td>2510.0</td>\n",
       "      <td>2510.0</td>\n",
       "      <td>2490.0</td>\n",
       "      <td>2570.0</td>\n",
       "      <td>2620.0</td>\n",
       "    </tr>\n",
       "  </tbody>\n",
       "</table>\n",
       "<p>136 rows × 43 columns</p>\n",
       "</div>"
      ],
      "text/plain": [
       "                  country   2005_whr   2006_whr   2007_whr   2008_whr  \\\n",
       "0             Afghanistan  36.091667  36.091667  36.091667  37.200000   \n",
       "1                 Albania  49.808333  49.808333  46.300000  49.808333   \n",
       "2    United Arab Emirates  68.358333  67.300000  68.358333  68.358333   \n",
       "3               Argentina  63.307143  63.100000  60.700000  59.600000   \n",
       "4                 Armenia  44.564286  42.900000  48.800000  46.500000   \n",
       "..                    ...        ...        ...        ...        ...   \n",
       "131               Vietnam  52.971429  52.900000  54.200000  54.800000   \n",
       "132                 Yemen  38.575000  38.575000  44.800000  38.575000   \n",
       "133          South Africa  48.507143  50.800000  52.000000  53.500000   \n",
       "134                Zambia  45.638462  48.200000  40.000000  47.300000   \n",
       "135              Zimbabwe  39.785714  38.300000  32.800000  31.700000   \n",
       "\n",
       "     2009_whr   2010_whr  2011_whr  2012_whr  2013_whr  ...  2009_income  \\\n",
       "0        44.0  47.600000      38.3      37.8      35.7  ...       1500.0   \n",
       "1        54.9  52.700000      58.7      55.1      45.5  ...       9530.0   \n",
       "2        68.7  71.000000      71.2      72.2      66.2  ...      58800.0   \n",
       "3        64.2  64.400000      67.8      64.7      65.8  ...      17300.0   \n",
       "4        41.8  43.700000      42.6      43.2      42.8  ...       6530.0   \n",
       "..        ...        ...       ...       ...       ...  ...          ...   \n",
       "131      53.0  53.000000      57.7      55.3      50.2  ...       4210.0   \n",
       "132      48.1  43.500000      37.5      40.6      42.2  ...       4360.0   \n",
       "133      52.2  46.500000      49.3      51.3      36.6  ...      11800.0   \n",
       "134      52.6  45.638462      50.0      50.1      52.4  ...       3120.0   \n",
       "135      40.6  46.800000      48.5      49.6      46.9  ...       1630.0   \n",
       "\n",
       "     2010_income  2011_income  2012_income  2013_income  2014_income  \\\n",
       "0         1670.0       1630.0       1770.0       1810.0       1800.0   \n",
       "1         9930.0      10200.0      10400.0      10500.0      10700.0   \n",
       "2        55400.0      56600.0      57900.0      60400.0      62900.0   \n",
       "3        18900.0      19800.0      19400.0      19600.0      18900.0   \n",
       "4         6700.0       7020.0       7510.0       7720.0       7950.0   \n",
       "..           ...          ...          ...          ...          ...   \n",
       "131       4430.0       4660.0       4860.0       5070.0       5310.0   \n",
       "132       4570.0       3880.0       3860.0       3940.0       3830.0   \n",
       "133      12000.0      12200.0      12300.0      12400.0      12400.0   \n",
       "134       3340.0       3420.0       3570.0       3630.0       3690.0   \n",
       "135       1930.0       2170.0       2490.0       2490.0       2510.0   \n",
       "\n",
       "     2015_income  2016_income  2017_income  2018_income  \n",
       "0         1770.0       1760.0       1760.0       1740.0  \n",
       "1        11000.0      11400.0      11800.0      12300.0  \n",
       "2        65800.0      67000.0      66700.0      66600.0  \n",
       "3        19200.0      18600.0      18900.0      18300.0  \n",
       "4         8170.0       8160.0       8750.0       9180.0  \n",
       "..           ...          ...          ...          ...  \n",
       "131       5610.0       5900.0       6230.0       6610.0  \n",
       "132       3110.0       2620.0       2400.0       2360.0  \n",
       "133      12400.0      12200.0      12200.0      12100.0  \n",
       "134       3680.0       3700.0       3720.0       3740.0  \n",
       "135       2510.0       2490.0       2570.0       2620.0  \n",
       "\n",
       "[136 rows x 43 columns]"
      ]
     },
     "execution_count": 28,
     "metadata": {},
     "output_type": "execute_result"
    }
   ],
   "source": [
    "df"
   ]
  },
  {
   "cell_type": "markdown",
   "metadata": {},
   "source": [
    "#### here we gonna make the second version, without the year and country"
   ]
  },
  {
   "cell_type": "code",
   "execution_count": 29,
   "metadata": {},
   "outputs": [],
   "source": [
    "# here we allign every 3 data points to each other\n",
    "df_new = pd.DataFrame(columns=['whr','hdi','income'])\n",
    "for i in range(2005,2019):\n",
    "    series = pd.concat([df[str(i)+'_whr'],\n",
    "                       df[str(i)+'_hdi'],\n",
    "                       df[str(i)+'_income']],\n",
    "                       axis=1,\n",
    "                       keys=df_new.columns)\n",
    "    \n",
    "    data = pd.DataFrame(data=series)\n",
    "    df_new = df_new.append(data,ignore_index=True)\n",
    "    "
   ]
  },
  {
   "cell_type": "code",
   "execution_count": 30,
   "metadata": {},
   "outputs": [
    {
     "data": {
      "text/plain": [
       "0    0.410\n",
       "1    0.702\n",
       "2    0.809\n",
       "3    0.777\n",
       "4    0.694\n",
       "Name: 2005_hdi, dtype: float64"
      ]
     },
     "execution_count": 30,
     "metadata": {},
     "output_type": "execute_result"
    }
   ],
   "source": [
    "df['2005_hdi'].head(5) "
   ]
  },
  {
   "cell_type": "code",
   "execution_count": 31,
   "metadata": {},
   "outputs": [
    {
     "data": {
      "text/html": [
       "<div>\n",
       "<style scoped>\n",
       "    .dataframe tbody tr th:only-of-type {\n",
       "        vertical-align: middle;\n",
       "    }\n",
       "\n",
       "    .dataframe tbody tr th {\n",
       "        vertical-align: top;\n",
       "    }\n",
       "\n",
       "    .dataframe thead th {\n",
       "        text-align: right;\n",
       "    }\n",
       "</style>\n",
       "<table border=\"1\" class=\"dataframe\">\n",
       "  <thead>\n",
       "    <tr style=\"text-align: right;\">\n",
       "      <th></th>\n",
       "      <th>whr</th>\n",
       "      <th>hdi</th>\n",
       "      <th>income</th>\n",
       "    </tr>\n",
       "  </thead>\n",
       "  <tbody>\n",
       "    <tr>\n",
       "      <th>0</th>\n",
       "      <td>36.091667</td>\n",
       "      <td>0.410</td>\n",
       "      <td>1100.0</td>\n",
       "    </tr>\n",
       "    <tr>\n",
       "      <th>1</th>\n",
       "      <td>49.808333</td>\n",
       "      <td>0.702</td>\n",
       "      <td>7430.0</td>\n",
       "    </tr>\n",
       "    <tr>\n",
       "      <th>2</th>\n",
       "      <td>68.358333</td>\n",
       "      <td>0.809</td>\n",
       "      <td>91600.0</td>\n",
       "    </tr>\n",
       "    <tr>\n",
       "      <th>3</th>\n",
       "      <td>63.307143</td>\n",
       "      <td>0.777</td>\n",
       "      <td>15600.0</td>\n",
       "    </tr>\n",
       "    <tr>\n",
       "      <th>4</th>\n",
       "      <td>44.564286</td>\n",
       "      <td>0.694</td>\n",
       "      <td>5360.0</td>\n",
       "    </tr>\n",
       "  </tbody>\n",
       "</table>\n",
       "</div>"
      ],
      "text/plain": [
       "         whr    hdi   income\n",
       "0  36.091667  0.410   1100.0\n",
       "1  49.808333  0.702   7430.0\n",
       "2  68.358333  0.809  91600.0\n",
       "3  63.307143  0.777  15600.0\n",
       "4  44.564286  0.694   5360.0"
      ]
     },
     "execution_count": 31,
     "metadata": {},
     "output_type": "execute_result"
    }
   ],
   "source": [
    "df_new.head(5) ## in these two cell we want to check the alligning... all looks fine and correct"
   ]
  },
  {
   "cell_type": "code",
   "execution_count": 32,
   "metadata": {},
   "outputs": [
    {
     "data": {
      "text/plain": [
       "1"
      ]
     },
     "execution_count": 32,
     "metadata": {},
     "output_type": "execute_result"
    }
   ],
   "source": [
    "df_new.duplicated().any().sum() # checking for duplicated..."
   ]
  },
  {
   "cell_type": "code",
   "execution_count": 33,
   "metadata": {},
   "outputs": [],
   "source": [
    "df_new.drop_duplicates(inplace=True) #dropping duplicated..."
   ]
  },
  {
   "cell_type": "code",
   "execution_count": 34,
   "metadata": {},
   "outputs": [
    {
     "data": {
      "text/plain": [
       "whr       0\n",
       "hdi       0\n",
       "income    0\n",
       "dtype: int64"
      ]
     },
     "execution_count": 34,
     "metadata": {},
     "output_type": "execute_result"
    }
   ],
   "source": [
    "df_new.isnull().sum() # checking for nulls"
   ]
  },
  {
   "cell_type": "code",
   "execution_count": 35,
   "metadata": {},
   "outputs": [],
   "source": [
    "df_new.dropna(inplace=True) # dropping nulls (no need to fill them we have enough data)"
   ]
  },
  {
   "cell_type": "code",
   "execution_count": 36,
   "metadata": {},
   "outputs": [
    {
     "data": {
      "text/plain": [
       "True"
      ]
     },
     "execution_count": 36,
     "metadata": {},
     "output_type": "execute_result"
    }
   ],
   "source": [
    "df_new.duplicated().any().sum() == 0 and df_new.isnull().sum().any() == False # checking that every thing is good"
   ]
  },
  {
   "cell_type": "code",
   "execution_count": 37,
   "metadata": {},
   "outputs": [],
   "source": [
    "df = df_new.copy()"
   ]
  },
  {
   "cell_type": "markdown",
   "metadata": {},
   "source": [
    "### taking a look at two datasets"
   ]
  },
  {
   "cell_type": "code",
   "execution_count": 38,
   "metadata": {},
   "outputs": [
    {
     "data": {
      "text/html": [
       "<div>\n",
       "<style scoped>\n",
       "    .dataframe tbody tr th:only-of-type {\n",
       "        vertical-align: middle;\n",
       "    }\n",
       "\n",
       "    .dataframe tbody tr th {\n",
       "        vertical-align: top;\n",
       "    }\n",
       "\n",
       "    .dataframe thead th {\n",
       "        text-align: right;\n",
       "    }\n",
       "</style>\n",
       "<table border=\"1\" class=\"dataframe\">\n",
       "  <thead>\n",
       "    <tr style=\"text-align: right;\">\n",
       "      <th></th>\n",
       "      <th>whr</th>\n",
       "      <th>hdi</th>\n",
       "      <th>income</th>\n",
       "    </tr>\n",
       "  </thead>\n",
       "  <tbody>\n",
       "    <tr>\n",
       "      <th>0</th>\n",
       "      <td>36.091667</td>\n",
       "      <td>0.410</td>\n",
       "      <td>1100.0</td>\n",
       "    </tr>\n",
       "    <tr>\n",
       "      <th>1</th>\n",
       "      <td>49.808333</td>\n",
       "      <td>0.702</td>\n",
       "      <td>7430.0</td>\n",
       "    </tr>\n",
       "    <tr>\n",
       "      <th>2</th>\n",
       "      <td>68.358333</td>\n",
       "      <td>0.809</td>\n",
       "      <td>91600.0</td>\n",
       "    </tr>\n",
       "    <tr>\n",
       "      <th>3</th>\n",
       "      <td>63.307143</td>\n",
       "      <td>0.777</td>\n",
       "      <td>15600.0</td>\n",
       "    </tr>\n",
       "    <tr>\n",
       "      <th>4</th>\n",
       "      <td>44.564286</td>\n",
       "      <td>0.694</td>\n",
       "      <td>5360.0</td>\n",
       "    </tr>\n",
       "  </tbody>\n",
       "</table>\n",
       "</div>"
      ],
      "text/plain": [
       "         whr    hdi   income\n",
       "0  36.091667  0.410   1100.0\n",
       "1  49.808333  0.702   7430.0\n",
       "2  68.358333  0.809  91600.0\n",
       "3  63.307143  0.777  15600.0\n",
       "4  44.564286  0.694   5360.0"
      ]
     },
     "execution_count": 38,
     "metadata": {},
     "output_type": "execute_result"
    }
   ],
   "source": [
    "df.head(5)"
   ]
  },
  {
   "cell_type": "code",
   "execution_count": 39,
   "metadata": {},
   "outputs": [
    {
     "data": {
      "text/html": [
       "<div>\n",
       "<style scoped>\n",
       "    .dataframe tbody tr th:only-of-type {\n",
       "        vertical-align: middle;\n",
       "    }\n",
       "\n",
       "    .dataframe tbody tr th {\n",
       "        vertical-align: top;\n",
       "    }\n",
       "\n",
       "    .dataframe thead th {\n",
       "        text-align: right;\n",
       "    }\n",
       "</style>\n",
       "<table border=\"1\" class=\"dataframe\">\n",
       "  <thead>\n",
       "    <tr style=\"text-align: right;\">\n",
       "      <th></th>\n",
       "      <th>country</th>\n",
       "      <th>2005_income</th>\n",
       "      <th>2006_income</th>\n",
       "      <th>2007_income</th>\n",
       "      <th>2008_income</th>\n",
       "      <th>2009_income</th>\n",
       "      <th>2010_income</th>\n",
       "      <th>2011_income</th>\n",
       "      <th>2012_income</th>\n",
       "      <th>2013_income</th>\n",
       "      <th>2014_income</th>\n",
       "      <th>2015_income</th>\n",
       "      <th>2016_income</th>\n",
       "      <th>2017_income</th>\n",
       "      <th>2018_income</th>\n",
       "    </tr>\n",
       "  </thead>\n",
       "  <tbody>\n",
       "    <tr>\n",
       "      <th>0</th>\n",
       "      <td>Afghanistan</td>\n",
       "      <td>1100.0</td>\n",
       "      <td>1120.0</td>\n",
       "      <td>1250.0</td>\n",
       "      <td>1270.0</td>\n",
       "      <td>1500.0</td>\n",
       "      <td>1670.0</td>\n",
       "      <td>1630.0</td>\n",
       "      <td>1770.0</td>\n",
       "      <td>1810.0</td>\n",
       "      <td>1800.0</td>\n",
       "      <td>1770.0</td>\n",
       "      <td>1760.0</td>\n",
       "      <td>1760.0</td>\n",
       "      <td>1740.0</td>\n",
       "    </tr>\n",
       "    <tr>\n",
       "      <th>1</th>\n",
       "      <td>Angola</td>\n",
       "      <td>5110.0</td>\n",
       "      <td>5500.0</td>\n",
       "      <td>6040.0</td>\n",
       "      <td>6470.0</td>\n",
       "      <td>6290.0</td>\n",
       "      <td>6360.0</td>\n",
       "      <td>6350.0</td>\n",
       "      <td>6650.0</td>\n",
       "      <td>6730.0</td>\n",
       "      <td>6810.0</td>\n",
       "      <td>6650.0</td>\n",
       "      <td>6260.0</td>\n",
       "      <td>6050.0</td>\n",
       "      <td>5730.0</td>\n",
       "    </tr>\n",
       "    <tr>\n",
       "      <th>2</th>\n",
       "      <td>Albania</td>\n",
       "      <td>7430.0</td>\n",
       "      <td>7910.0</td>\n",
       "      <td>8450.0</td>\n",
       "      <td>9160.0</td>\n",
       "      <td>9530.0</td>\n",
       "      <td>9930.0</td>\n",
       "      <td>10200.0</td>\n",
       "      <td>10400.0</td>\n",
       "      <td>10500.0</td>\n",
       "      <td>10700.0</td>\n",
       "      <td>11000.0</td>\n",
       "      <td>11400.0</td>\n",
       "      <td>11800.0</td>\n",
       "      <td>12300.0</td>\n",
       "    </tr>\n",
       "    <tr>\n",
       "      <th>3</th>\n",
       "      <td>Andorra</td>\n",
       "      <td>39800.0</td>\n",
       "      <td>42700.0</td>\n",
       "      <td>43400.0</td>\n",
       "      <td>41400.0</td>\n",
       "      <td>41700.0</td>\n",
       "      <td>39000.0</td>\n",
       "      <td>42000.0</td>\n",
       "      <td>41900.0</td>\n",
       "      <td>43700.0</td>\n",
       "      <td>44900.0</td>\n",
       "      <td>46600.0</td>\n",
       "      <td>48200.0</td>\n",
       "      <td>49800.0</td>\n",
       "      <td>51500.0</td>\n",
       "    </tr>\n",
       "    <tr>\n",
       "      <th>4</th>\n",
       "      <td>United Arab Emirates</td>\n",
       "      <td>91600.0</td>\n",
       "      <td>87100.0</td>\n",
       "      <td>77200.0</td>\n",
       "      <td>69400.0</td>\n",
       "      <td>58800.0</td>\n",
       "      <td>55400.0</td>\n",
       "      <td>56600.0</td>\n",
       "      <td>57900.0</td>\n",
       "      <td>60400.0</td>\n",
       "      <td>62900.0</td>\n",
       "      <td>65800.0</td>\n",
       "      <td>67000.0</td>\n",
       "      <td>66700.0</td>\n",
       "      <td>66600.0</td>\n",
       "    </tr>\n",
       "  </tbody>\n",
       "</table>\n",
       "</div>"
      ],
      "text/plain": [
       "                country  2005_income  2006_income  2007_income  2008_income  \\\n",
       "0           Afghanistan       1100.0       1120.0       1250.0       1270.0   \n",
       "1                Angola       5110.0       5500.0       6040.0       6470.0   \n",
       "2               Albania       7430.0       7910.0       8450.0       9160.0   \n",
       "3               Andorra      39800.0      42700.0      43400.0      41400.0   \n",
       "4  United Arab Emirates      91600.0      87100.0      77200.0      69400.0   \n",
       "\n",
       "   2009_income  2010_income  2011_income  2012_income  2013_income  \\\n",
       "0       1500.0       1670.0       1630.0       1770.0       1810.0   \n",
       "1       6290.0       6360.0       6350.0       6650.0       6730.0   \n",
       "2       9530.0       9930.0      10200.0      10400.0      10500.0   \n",
       "3      41700.0      39000.0      42000.0      41900.0      43700.0   \n",
       "4      58800.0      55400.0      56600.0      57900.0      60400.0   \n",
       "\n",
       "   2014_income  2015_income  2016_income  2017_income  2018_income  \n",
       "0       1800.0       1770.0       1760.0       1760.0       1740.0  \n",
       "1       6810.0       6650.0       6260.0       6050.0       5730.0  \n",
       "2      10700.0      11000.0      11400.0      11800.0      12300.0  \n",
       "3      44900.0      46600.0      48200.0      49800.0      51500.0  \n",
       "4      62900.0      65800.0      67000.0      66700.0      66600.0  "
      ]
     },
     "execution_count": 39,
     "metadata": {},
     "output_type": "execute_result"
    }
   ],
   "source": [
    "df_income.head(5)"
   ]
  },
  {
   "cell_type": "code",
   "execution_count": 40,
   "metadata": {},
   "outputs": [
    {
     "data": {
      "text/html": [
       "<div>\n",
       "<style scoped>\n",
       "    .dataframe tbody tr th:only-of-type {\n",
       "        vertical-align: middle;\n",
       "    }\n",
       "\n",
       "    .dataframe tbody tr th {\n",
       "        vertical-align: top;\n",
       "    }\n",
       "\n",
       "    .dataframe thead th {\n",
       "        text-align: right;\n",
       "    }\n",
       "</style>\n",
       "<table border=\"1\" class=\"dataframe\">\n",
       "  <thead>\n",
       "    <tr style=\"text-align: right;\">\n",
       "      <th></th>\n",
       "      <th>country</th>\n",
       "      <th>2005_hdi</th>\n",
       "      <th>2006_hdi</th>\n",
       "      <th>2007_hdi</th>\n",
       "      <th>2008_hdi</th>\n",
       "      <th>2009_hdi</th>\n",
       "      <th>2010_hdi</th>\n",
       "      <th>2011_hdi</th>\n",
       "      <th>2012_hdi</th>\n",
       "      <th>2013_hdi</th>\n",
       "      <th>2014_hdi</th>\n",
       "      <th>2015_hdi</th>\n",
       "      <th>2016_hdi</th>\n",
       "      <th>2017_hdi</th>\n",
       "      <th>2018_hdi</th>\n",
       "    </tr>\n",
       "  </thead>\n",
       "  <tbody>\n",
       "    <tr>\n",
       "      <th>0</th>\n",
       "      <td>Afghanistan</td>\n",
       "      <td>0.410</td>\n",
       "      <td>0.419</td>\n",
       "      <td>0.431</td>\n",
       "      <td>0.436</td>\n",
       "      <td>0.447</td>\n",
       "      <td>0.464</td>\n",
       "      <td>0.465</td>\n",
       "      <td>0.479</td>\n",
       "      <td>0.485</td>\n",
       "      <td>0.488</td>\n",
       "      <td>0.490</td>\n",
       "      <td>0.491</td>\n",
       "      <td>0.493</td>\n",
       "      <td>0.496</td>\n",
       "    </tr>\n",
       "    <tr>\n",
       "      <th>2</th>\n",
       "      <td>Albania</td>\n",
       "      <td>0.702</td>\n",
       "      <td>0.709</td>\n",
       "      <td>0.718</td>\n",
       "      <td>0.724</td>\n",
       "      <td>0.729</td>\n",
       "      <td>0.740</td>\n",
       "      <td>0.759</td>\n",
       "      <td>0.771</td>\n",
       "      <td>0.781</td>\n",
       "      <td>0.787</td>\n",
       "      <td>0.788</td>\n",
       "      <td>0.788</td>\n",
       "      <td>0.789</td>\n",
       "      <td>0.791</td>\n",
       "    </tr>\n",
       "    <tr>\n",
       "      <th>4</th>\n",
       "      <td>United Arab Emirates</td>\n",
       "      <td>0.809</td>\n",
       "      <td>0.814</td>\n",
       "      <td>0.819</td>\n",
       "      <td>0.821</td>\n",
       "      <td>0.819</td>\n",
       "      <td>0.821</td>\n",
       "      <td>0.826</td>\n",
       "      <td>0.832</td>\n",
       "      <td>0.839</td>\n",
       "      <td>0.847</td>\n",
       "      <td>0.860</td>\n",
       "      <td>0.863</td>\n",
       "      <td>0.864</td>\n",
       "      <td>0.866</td>\n",
       "    </tr>\n",
       "    <tr>\n",
       "      <th>5</th>\n",
       "      <td>Argentina</td>\n",
       "      <td>0.777</td>\n",
       "      <td>0.801</td>\n",
       "      <td>0.806</td>\n",
       "      <td>0.810</td>\n",
       "      <td>0.810</td>\n",
       "      <td>0.818</td>\n",
       "      <td>0.823</td>\n",
       "      <td>0.823</td>\n",
       "      <td>0.824</td>\n",
       "      <td>0.825</td>\n",
       "      <td>0.828</td>\n",
       "      <td>0.828</td>\n",
       "      <td>0.832</td>\n",
       "      <td>0.830</td>\n",
       "    </tr>\n",
       "    <tr>\n",
       "      <th>6</th>\n",
       "      <td>Armenia</td>\n",
       "      <td>0.694</td>\n",
       "      <td>0.708</td>\n",
       "      <td>0.724</td>\n",
       "      <td>0.727</td>\n",
       "      <td>0.724</td>\n",
       "      <td>0.729</td>\n",
       "      <td>0.733</td>\n",
       "      <td>0.737</td>\n",
       "      <td>0.743</td>\n",
       "      <td>0.746</td>\n",
       "      <td>0.748</td>\n",
       "      <td>0.751</td>\n",
       "      <td>0.758</td>\n",
       "      <td>0.760</td>\n",
       "    </tr>\n",
       "  </tbody>\n",
       "</table>\n",
       "</div>"
      ],
      "text/plain": [
       "                country  2005_hdi  2006_hdi  2007_hdi  2008_hdi  2009_hdi  \\\n",
       "0           Afghanistan     0.410     0.419     0.431     0.436     0.447   \n",
       "2               Albania     0.702     0.709     0.718     0.724     0.729   \n",
       "4  United Arab Emirates     0.809     0.814     0.819     0.821     0.819   \n",
       "5             Argentina     0.777     0.801     0.806     0.810     0.810   \n",
       "6               Armenia     0.694     0.708     0.724     0.727     0.724   \n",
       "\n",
       "   2010_hdi  2011_hdi  2012_hdi  2013_hdi  2014_hdi  2015_hdi  2016_hdi  \\\n",
       "0     0.464     0.465     0.479     0.485     0.488     0.490     0.491   \n",
       "2     0.740     0.759     0.771     0.781     0.787     0.788     0.788   \n",
       "4     0.821     0.826     0.832     0.839     0.847     0.860     0.863   \n",
       "5     0.818     0.823     0.823     0.824     0.825     0.828     0.828   \n",
       "6     0.729     0.733     0.737     0.743     0.746     0.748     0.751   \n",
       "\n",
       "   2017_hdi  2018_hdi  \n",
       "0     0.493     0.496  \n",
       "2     0.789     0.791  \n",
       "4     0.864     0.866  \n",
       "5     0.832     0.830  \n",
       "6     0.758     0.760  "
      ]
     },
     "execution_count": 40,
     "metadata": {},
     "output_type": "execute_result"
    }
   ],
   "source": [
    "df_hdi.head(5)"
   ]
  },
  {
   "cell_type": "code",
   "execution_count": 41,
   "metadata": {},
   "outputs": [
    {
     "data": {
      "text/html": [
       "<div>\n",
       "<style scoped>\n",
       "    .dataframe tbody tr th:only-of-type {\n",
       "        vertical-align: middle;\n",
       "    }\n",
       "\n",
       "    .dataframe tbody tr th {\n",
       "        vertical-align: top;\n",
       "    }\n",
       "\n",
       "    .dataframe thead th {\n",
       "        text-align: right;\n",
       "    }\n",
       "</style>\n",
       "<table border=\"1\" class=\"dataframe\">\n",
       "  <thead>\n",
       "    <tr style=\"text-align: right;\">\n",
       "      <th></th>\n",
       "      <th>country</th>\n",
       "      <th>2005_whr</th>\n",
       "      <th>2006_whr</th>\n",
       "      <th>2007_whr</th>\n",
       "      <th>2008_whr</th>\n",
       "      <th>2009_whr</th>\n",
       "      <th>2010_whr</th>\n",
       "      <th>2011_whr</th>\n",
       "      <th>2012_whr</th>\n",
       "      <th>2013_whr</th>\n",
       "      <th>2014_whr</th>\n",
       "      <th>2015_whr</th>\n",
       "      <th>2016_whr</th>\n",
       "      <th>2017_whr</th>\n",
       "      <th>2018_whr</th>\n",
       "    </tr>\n",
       "  </thead>\n",
       "  <tbody>\n",
       "    <tr>\n",
       "      <th>0</th>\n",
       "      <td>Afghanistan</td>\n",
       "      <td>36.091667</td>\n",
       "      <td>36.091667</td>\n",
       "      <td>36.091667</td>\n",
       "      <td>37.200000</td>\n",
       "      <td>44.0</td>\n",
       "      <td>47.6</td>\n",
       "      <td>38.3</td>\n",
       "      <td>37.8</td>\n",
       "      <td>35.7</td>\n",
       "      <td>31.3</td>\n",
       "      <td>39.8</td>\n",
       "      <td>42.2</td>\n",
       "      <td>26.6</td>\n",
       "      <td>26.9</td>\n",
       "    </tr>\n",
       "    <tr>\n",
       "      <th>1</th>\n",
       "      <td>Angola</td>\n",
       "      <td>44.200000</td>\n",
       "      <td>44.200000</td>\n",
       "      <td>44.200000</td>\n",
       "      <td>44.200000</td>\n",
       "      <td>44.2</td>\n",
       "      <td>44.2</td>\n",
       "      <td>55.9</td>\n",
       "      <td>43.6</td>\n",
       "      <td>39.4</td>\n",
       "      <td>37.9</td>\n",
       "      <td>44.2</td>\n",
       "      <td>44.2</td>\n",
       "      <td>44.2</td>\n",
       "      <td>44.2</td>\n",
       "    </tr>\n",
       "    <tr>\n",
       "      <th>2</th>\n",
       "      <td>Albania</td>\n",
       "      <td>49.808333</td>\n",
       "      <td>49.808333</td>\n",
       "      <td>46.300000</td>\n",
       "      <td>49.808333</td>\n",
       "      <td>54.9</td>\n",
       "      <td>52.7</td>\n",
       "      <td>58.7</td>\n",
       "      <td>55.1</td>\n",
       "      <td>45.5</td>\n",
       "      <td>48.1</td>\n",
       "      <td>46.1</td>\n",
       "      <td>45.1</td>\n",
       "      <td>46.4</td>\n",
       "      <td>50.0</td>\n",
       "    </tr>\n",
       "    <tr>\n",
       "      <th>3</th>\n",
       "      <td>United Arab Emirates</td>\n",
       "      <td>68.358333</td>\n",
       "      <td>67.300000</td>\n",
       "      <td>68.358333</td>\n",
       "      <td>68.358333</td>\n",
       "      <td>68.7</td>\n",
       "      <td>71.0</td>\n",
       "      <td>71.2</td>\n",
       "      <td>72.2</td>\n",
       "      <td>66.2</td>\n",
       "      <td>65.4</td>\n",
       "      <td>65.7</td>\n",
       "      <td>68.3</td>\n",
       "      <td>70.4</td>\n",
       "      <td>66.0</td>\n",
       "    </tr>\n",
       "    <tr>\n",
       "      <th>4</th>\n",
       "      <td>Argentina</td>\n",
       "      <td>63.307143</td>\n",
       "      <td>63.100000</td>\n",
       "      <td>60.700000</td>\n",
       "      <td>59.600000</td>\n",
       "      <td>64.2</td>\n",
       "      <td>64.4</td>\n",
       "      <td>67.8</td>\n",
       "      <td>64.7</td>\n",
       "      <td>65.8</td>\n",
       "      <td>66.7</td>\n",
       "      <td>67.0</td>\n",
       "      <td>64.3</td>\n",
       "      <td>60.4</td>\n",
       "      <td>57.9</td>\n",
       "    </tr>\n",
       "  </tbody>\n",
       "</table>\n",
       "</div>"
      ],
      "text/plain": [
       "                country   2005_whr   2006_whr   2007_whr   2008_whr  2009_whr  \\\n",
       "0           Afghanistan  36.091667  36.091667  36.091667  37.200000      44.0   \n",
       "1                Angola  44.200000  44.200000  44.200000  44.200000      44.2   \n",
       "2               Albania  49.808333  49.808333  46.300000  49.808333      54.9   \n",
       "3  United Arab Emirates  68.358333  67.300000  68.358333  68.358333      68.7   \n",
       "4             Argentina  63.307143  63.100000  60.700000  59.600000      64.2   \n",
       "\n",
       "   2010_whr  2011_whr  2012_whr  2013_whr  2014_whr  2015_whr  2016_whr  \\\n",
       "0      47.6      38.3      37.8      35.7      31.3      39.8      42.2   \n",
       "1      44.2      55.9      43.6      39.4      37.9      44.2      44.2   \n",
       "2      52.7      58.7      55.1      45.5      48.1      46.1      45.1   \n",
       "3      71.0      71.2      72.2      66.2      65.4      65.7      68.3   \n",
       "4      64.4      67.8      64.7      65.8      66.7      67.0      64.3   \n",
       "\n",
       "   2017_whr  2018_whr  \n",
       "0      26.6      26.9  \n",
       "1      44.2      44.2  \n",
       "2      46.4      50.0  \n",
       "3      70.4      66.0  \n",
       "4      60.4      57.9  "
      ]
     },
     "execution_count": 41,
     "metadata": {},
     "output_type": "execute_result"
    }
   ],
   "source": [
    "df_whr.head(5)"
   ]
  },
  {
   "cell_type": "markdown",
   "metadata": {},
   "source": [
    "<a id='eda'></a>\n",
    "## Exploratory Data Analysis\n",
    "\n",
    "> **Tip**: Now that you've trimmed and cleaned your data, you're ready to move on to exploration. Compute statistics and create visualizations with the goal of addressing the research questions that you posed in the Introduction section. It is recommended that you be systematic with your approach. Look at one variable at a time, and then follow it up by looking at relationships between variables.\n"
   ]
  },
  {
   "cell_type": "markdown",
   "metadata": {},
   "source": [
    "### Research Question 1: Does the WHR increased in the Gulf in the last few years ?"
   ]
  },
  {
   "cell_type": "code",
   "execution_count": 42,
   "metadata": {},
   "outputs": [],
   "source": [
    "df_whr.set_index(\"country\", \n",
    "              inplace = True)"
   ]
  },
  {
   "cell_type": "code",
   "execution_count": 43,
   "metadata": {},
   "outputs": [],
   "source": [
    "df_whr_gulf = df_whr.loc[['Bahrain','Iraq','Kuwait','Oman','Qatar','Saudi Arabia','United Arab Emirates']].copy()"
   ]
  },
  {
   "cell_type": "code",
   "execution_count": 44,
   "metadata": {},
   "outputs": [
    {
     "data": {
      "text/html": [
       "<div>\n",
       "<style scoped>\n",
       "    .dataframe tbody tr th:only-of-type {\n",
       "        vertical-align: middle;\n",
       "    }\n",
       "\n",
       "    .dataframe tbody tr th {\n",
       "        vertical-align: top;\n",
       "    }\n",
       "\n",
       "    .dataframe thead th {\n",
       "        text-align: right;\n",
       "    }\n",
       "</style>\n",
       "<table border=\"1\" class=\"dataframe\">\n",
       "  <thead>\n",
       "    <tr style=\"text-align: right;\">\n",
       "      <th></th>\n",
       "      <th>2005_whr</th>\n",
       "      <th>2006_whr</th>\n",
       "      <th>2007_whr</th>\n",
       "      <th>2008_whr</th>\n",
       "      <th>2009_whr</th>\n",
       "      <th>2010_whr</th>\n",
       "      <th>2011_whr</th>\n",
       "      <th>2012_whr</th>\n",
       "      <th>2013_whr</th>\n",
       "      <th>2014_whr</th>\n",
       "      <th>2015_whr</th>\n",
       "      <th>2016_whr</th>\n",
       "      <th>2017_whr</th>\n",
       "      <th>2018_whr</th>\n",
       "    </tr>\n",
       "    <tr>\n",
       "      <th>country</th>\n",
       "      <th></th>\n",
       "      <th></th>\n",
       "      <th></th>\n",
       "      <th></th>\n",
       "      <th></th>\n",
       "      <th></th>\n",
       "      <th></th>\n",
       "      <th></th>\n",
       "      <th></th>\n",
       "      <th></th>\n",
       "      <th></th>\n",
       "      <th></th>\n",
       "      <th></th>\n",
       "      <th></th>\n",
       "    </tr>\n",
       "  </thead>\n",
       "  <tbody>\n",
       "    <tr>\n",
       "      <th>Bahrain</th>\n",
       "      <td>58.990000</td>\n",
       "      <td>58.990000</td>\n",
       "      <td>58.990000</td>\n",
       "      <td>58.990000</td>\n",
       "      <td>57.0</td>\n",
       "      <td>59.4</td>\n",
       "      <td>48.2</td>\n",
       "      <td>50.3</td>\n",
       "      <td>66.90</td>\n",
       "      <td>61.70</td>\n",
       "      <td>60.1</td>\n",
       "      <td>61.70</td>\n",
       "      <td>62.30</td>\n",
       "      <td>58.990000</td>\n",
       "    </tr>\n",
       "    <tr>\n",
       "      <th>Iraq</th>\n",
       "      <td>46.581818</td>\n",
       "      <td>46.581818</td>\n",
       "      <td>46.581818</td>\n",
       "      <td>45.900000</td>\n",
       "      <td>47.8</td>\n",
       "      <td>50.7</td>\n",
       "      <td>47.3</td>\n",
       "      <td>46.6</td>\n",
       "      <td>47.30</td>\n",
       "      <td>45.40</td>\n",
       "      <td>44.9</td>\n",
       "      <td>44.10</td>\n",
       "      <td>44.60</td>\n",
       "      <td>46.581818</td>\n",
       "    </tr>\n",
       "    <tr>\n",
       "      <th>Kuwait</th>\n",
       "      <td>62.745455</td>\n",
       "      <td>60.800000</td>\n",
       "      <td>62.745455</td>\n",
       "      <td>62.745455</td>\n",
       "      <td>65.9</td>\n",
       "      <td>68.0</td>\n",
       "      <td>63.8</td>\n",
       "      <td>62.2</td>\n",
       "      <td>64.80</td>\n",
       "      <td>61.80</td>\n",
       "      <td>61.5</td>\n",
       "      <td>59.50</td>\n",
       "      <td>60.90</td>\n",
       "      <td>62.745455</td>\n",
       "    </tr>\n",
       "    <tr>\n",
       "      <th>Oman</th>\n",
       "      <td>68.500000</td>\n",
       "      <td>68.500000</td>\n",
       "      <td>68.500000</td>\n",
       "      <td>68.500000</td>\n",
       "      <td>68.5</td>\n",
       "      <td>68.5</td>\n",
       "      <td>68.5</td>\n",
       "      <td>68.5</td>\n",
       "      <td>68.50</td>\n",
       "      <td>68.50</td>\n",
       "      <td>68.5</td>\n",
       "      <td>68.50</td>\n",
       "      <td>68.50</td>\n",
       "      <td>68.500000</td>\n",
       "    </tr>\n",
       "    <tr>\n",
       "      <th>Qatar</th>\n",
       "      <td>65.680000</td>\n",
       "      <td>65.680000</td>\n",
       "      <td>65.680000</td>\n",
       "      <td>65.680000</td>\n",
       "      <td>64.2</td>\n",
       "      <td>68.5</td>\n",
       "      <td>65.9</td>\n",
       "      <td>66.1</td>\n",
       "      <td>65.68</td>\n",
       "      <td>65.68</td>\n",
       "      <td>63.7</td>\n",
       "      <td>65.68</td>\n",
       "      <td>65.68</td>\n",
       "      <td>65.680000</td>\n",
       "    </tr>\n",
       "    <tr>\n",
       "      <th>Saudi Arabia</th>\n",
       "      <td>70.800000</td>\n",
       "      <td>65.271429</td>\n",
       "      <td>72.700000</td>\n",
       "      <td>68.100000</td>\n",
       "      <td>61.5</td>\n",
       "      <td>63.1</td>\n",
       "      <td>67.0</td>\n",
       "      <td>64.0</td>\n",
       "      <td>65.00</td>\n",
       "      <td>62.80</td>\n",
       "      <td>63.5</td>\n",
       "      <td>64.70</td>\n",
       "      <td>62.90</td>\n",
       "      <td>63.600000</td>\n",
       "    </tr>\n",
       "    <tr>\n",
       "      <th>United Arab Emirates</th>\n",
       "      <td>68.358333</td>\n",
       "      <td>67.300000</td>\n",
       "      <td>68.358333</td>\n",
       "      <td>68.358333</td>\n",
       "      <td>68.7</td>\n",
       "      <td>71.0</td>\n",
       "      <td>71.2</td>\n",
       "      <td>72.2</td>\n",
       "      <td>66.20</td>\n",
       "      <td>65.40</td>\n",
       "      <td>65.7</td>\n",
       "      <td>68.30</td>\n",
       "      <td>70.40</td>\n",
       "      <td>66.000000</td>\n",
       "    </tr>\n",
       "  </tbody>\n",
       "</table>\n",
       "</div>"
      ],
      "text/plain": [
       "                       2005_whr   2006_whr   2007_whr   2008_whr  2009_whr  \\\n",
       "country                                                                      \n",
       "Bahrain               58.990000  58.990000  58.990000  58.990000      57.0   \n",
       "Iraq                  46.581818  46.581818  46.581818  45.900000      47.8   \n",
       "Kuwait                62.745455  60.800000  62.745455  62.745455      65.9   \n",
       "Oman                  68.500000  68.500000  68.500000  68.500000      68.5   \n",
       "Qatar                 65.680000  65.680000  65.680000  65.680000      64.2   \n",
       "Saudi Arabia          70.800000  65.271429  72.700000  68.100000      61.5   \n",
       "United Arab Emirates  68.358333  67.300000  68.358333  68.358333      68.7   \n",
       "\n",
       "                      2010_whr  2011_whr  2012_whr  2013_whr  2014_whr  \\\n",
       "country                                                                  \n",
       "Bahrain                   59.4      48.2      50.3     66.90     61.70   \n",
       "Iraq                      50.7      47.3      46.6     47.30     45.40   \n",
       "Kuwait                    68.0      63.8      62.2     64.80     61.80   \n",
       "Oman                      68.5      68.5      68.5     68.50     68.50   \n",
       "Qatar                     68.5      65.9      66.1     65.68     65.68   \n",
       "Saudi Arabia              63.1      67.0      64.0     65.00     62.80   \n",
       "United Arab Emirates      71.0      71.2      72.2     66.20     65.40   \n",
       "\n",
       "                      2015_whr  2016_whr  2017_whr   2018_whr  \n",
       "country                                                        \n",
       "Bahrain                   60.1     61.70     62.30  58.990000  \n",
       "Iraq                      44.9     44.10     44.60  46.581818  \n",
       "Kuwait                    61.5     59.50     60.90  62.745455  \n",
       "Oman                      68.5     68.50     68.50  68.500000  \n",
       "Qatar                     63.7     65.68     65.68  65.680000  \n",
       "Saudi Arabia              63.5     64.70     62.90  63.600000  \n",
       "United Arab Emirates      65.7     68.30     70.40  66.000000  "
      ]
     },
     "execution_count": 44,
     "metadata": {},
     "output_type": "execute_result"
    }
   ],
   "source": [
    "df_whr_gulf"
   ]
  },
  {
   "cell_type": "code",
   "execution_count": 45,
   "metadata": {},
   "outputs": [
    {
     "data": {
      "image/png": "[encoded data removed]",
      "text/plain": [
       "<Figure size 432x288 with 1 Axes>"
      ]
     },
     "metadata": {
      "needs_background": "light"
     },
     "output_type": "display_data"
    }
   ],
   "source": [
    "x = [2005,2006,2007,2008,2009,2010,2011,2012,2013,2014,2015,2016,2017,2018]\n",
    "for index, row in df_whr_gulf.iterrows():\n",
    "    plt.plot(x,row.values, label = index)\n",
    "plt.title('WHR in Gulf for the last years')\n",
    "plt.ylabel('Happy Score')\n",
    "plt.xlabel('years')\n",
    "plt.legend()\n",
    "plt.show()"
   ]
  },
  {
   "cell_type": "code",
   "execution_count": 46,
   "metadata": {},
   "outputs": [
    {
     "data": {
      "text/plain": [
       "<BarContainer object of 14 artists>"
      ]
     },
     "execution_count": 46,
     "metadata": {},
     "output_type": "execute_result"
    },
    {
     "data": {
      "image/png": "[encoded data removed]",
      "text/plain": [
       "<Figure size 432x288 with 1 Axes>"
      ]
     },
     "metadata": {
      "needs_background": "light"
     },
     "output_type": "display_data"
    }
   ],
   "source": [
    "plt.title('WHR in Gulf for the last years')\n",
    "plt.ylabel('the mean of the happy score in guld')\n",
    "plt.xlabel('years')\n",
    "plt.bar(x,df_whr_gulf.mean().values)"
   ]
  },
  {
   "cell_type": "markdown",
   "metadata": {},
   "source": [
    "### Research Question 2: Does the HDI increased in the Gulf in the last few years ?"
   ]
  },
  {
   "cell_type": "code",
   "execution_count": 47,
   "metadata": {},
   "outputs": [],
   "source": [
    "df_hdi.set_index(\"country\", \n",
    "              inplace = True)"
   ]
  },
  {
   "cell_type": "code",
   "execution_count": 48,
   "metadata": {},
   "outputs": [
    {
     "name": "stderr",
     "output_type": "stream",
     "text": [
      "C:\\Users\\MrSwi\\AppData\\Roaming\\Python\\Python37\\site-packages\\ipykernel_launcher.py:1: FutureWarning: \n",
      "Passing list-likes to .loc or [] with any missing label will raise\n",
      "KeyError in the future, you can use .reindex() as an alternative.\n",
      "\n",
      "See the documentation here:\n",
      "https://pandas.pydata.org/pandas-docs/stable/user_guide/indexing.html#deprecate-loc-reindex-listlike\n",
      "  \"\"\"Entry point for launching an IPython kernel.\n"
     ]
    }
   ],
   "source": [
    "df_hdi_gulf = df_hdi.loc[['Bahrain','Iraq','Kuwait','Oman','Qatar','Saudi Arabia','United Arab Emirates']].copy()"
   ]
  },
  {
   "cell_type": "markdown",
   "metadata": {},
   "source": [
    ">: Oman is not in the dataset, so we will except it"
   ]
  },
  {
   "cell_type": "code",
   "execution_count": 49,
   "metadata": {},
   "outputs": [],
   "source": [
    "df_hdi_gulf = df_hdi.loc[['Bahrain','Iraq','Kuwait','Qatar','Saudi Arabia','United Arab Emirates']].copy()"
   ]
  },
  {
   "cell_type": "code",
   "execution_count": 50,
   "metadata": {},
   "outputs": [
    {
     "data": {
      "image/png": "[encoded data removed]",
      "text/plain": [
       "<Figure size 432x288 with 1 Axes>"
      ]
     },
     "metadata": {
      "needs_background": "light"
     },
     "output_type": "display_data"
    }
   ],
   "source": [
    "x = [2005,2006,2007,2008,2009,2010,2011,2012,2013,2014,2015,2016,2017,2018]\n",
    "for index, row in df_hdi_gulf.iterrows():\n",
    "    plt.plot(x,row.values, label = index)\n",
    "plt.title('HDI in Gulf for the last years')   \n",
    "plt.xlabel('Years')\n",
    "plt.ylabel('Human development index (HDI))')\n",
    "plt.legend()\n",
    "plt.show()"
   ]
  },
  {
   "cell_type": "code",
   "execution_count": 51,
   "metadata": {},
   "outputs": [
    {
     "data": {
      "text/plain": [
       "<BarContainer object of 14 artists>"
      ]
     },
     "execution_count": 51,
     "metadata": {},
     "output_type": "execute_result"
    },
    {
     "data": {
      "image/png": "[encoded data removed]",
      "text/plain": [
       "<Figure size 432x288 with 1 Axes>"
      ]
     },
     "metadata": {
      "needs_background": "light"
     },
     "output_type": "display_data"
    }
   ],
   "source": [
    "plt.title('HDI in Gulf for the last years')   \n",
    "plt.xlabel('Years')\n",
    "plt.ylabel('the average of the HDI in gulf')\n",
    "plt.bar(x,df_hdi_gulf.mean().values)"
   ]
  },
  {
   "cell_type": "code",
   "execution_count": 52,
   "metadata": {},
   "outputs": [
    {
     "data": {
      "text/plain": [
       "[<matplotlib.lines.Line2D at 0x1e968b40308>]"
      ]
     },
     "execution_count": 52,
     "metadata": {},
     "output_type": "execute_result"
    },
    {
     "data": {
      "image/png": "[encoded data removed]",
      "text/plain": [
       "<Figure size 432x288 with 1 Axes>"
      ]
     },
     "metadata": {
      "needs_background": "light"
     },
     "output_type": "display_data"
    }
   ],
   "source": [
    "plt.title('The increasing of HDI in gulf for the last years')   \n",
    "plt.xlabel('Years')\n",
    "plt.ylabel('the average of the HDI in gulf')\n",
    "plt.plot(x,df_hdi_gulf.mean().values)"
   ]
  },
  {
   "cell_type": "markdown",
   "metadata": {},
   "source": [
    "### Research Question 3: is there a relation between the average income and the human development index or the happy score ?"
   ]
  },
  {
   "cell_type": "code",
   "execution_count": 53,
   "metadata": {},
   "outputs": [
    {
     "data": {
      "text/plain": [
       "Text(0, 0.5, 'Happy Score (WHR)')"
      ]
     },
     "execution_count": 53,
     "metadata": {},
     "output_type": "execute_result"
    },
    {
     "data": {
      "image/png": "[encoded data removed]",
      "text/plain": [
       "<Figure size 432x288 with 1 Axes>"
      ]
     },
     "metadata": {
      "needs_background": "light"
     },
     "output_type": "display_data"
    }
   ],
   "source": [
    "plt.scatter(df.income, df.whr)\n",
    "plt.title('the effect of the income in happiness')\n",
    "plt.xlabel('income per person by US Dollars')\n",
    "plt.ylabel('Happy Score (WHR)')"
   ]
  },
  {
   "cell_type": "code",
   "execution_count": 54,
   "metadata": {},
   "outputs": [
    {
     "data": {
      "text/plain": [
       "0.6897276331620237"
      ]
     },
     "execution_count": 54,
     "metadata": {},
     "output_type": "execute_result"
    }
   ],
   "source": [
    "corr_income_whr = df.income.corr(df.whr)\n",
    "corr_income_whr"
   ]
  },
  {
   "cell_type": "code",
   "execution_count": 55,
   "metadata": {},
   "outputs": [
    {
     "data": {
      "image/png": "[encoded data removed]",
      "text/plain": [
       "<Figure size 432x288 with 1 Axes>"
      ]
     },
     "metadata": {
      "needs_background": "light"
     },
     "output_type": "display_data"
    }
   ],
   "source": [
    "plt.scatter(df.income, df.hdi)\n",
    "plt.title('the effect of the income in human life quality')\n",
    "plt.xlabel('income per person by US Dollars ')\n",
    "plt.ylabel('human development index (HDI)')\n",
    "plt.show()"
   ]
  },
  {
   "cell_type": "code",
   "execution_count": 56,
   "metadata": {},
   "outputs": [
    {
     "data": {
      "text/plain": [
       "0.7425127417920309"
      ]
     },
     "execution_count": 56,
     "metadata": {},
     "output_type": "execute_result"
    }
   ],
   "source": [
    "corr_income_hdi = df.income.corr(df.hdi)\n",
    "corr_income_hdi"
   ]
  },
  {
   "cell_type": "markdown",
   "metadata": {},
   "source": [
    "### Research Question 4: is there a relation between (HDI) and (WHR)"
   ]
  },
  {
   "cell_type": "code",
   "execution_count": 57,
   "metadata": {},
   "outputs": [
    {
     "data": {
      "text/plain": [
       "Text(0, 0.5, 'human development index (HDI)')"
      ]
     },
     "execution_count": 57,
     "metadata": {},
     "output_type": "execute_result"
    },
    {
     "data": {
      "image/png": "[encoded data removed]",
      "text/plain": [
       "<Figure size 432x288 with 1 Axes>"
      ]
     },
     "metadata": {
      "needs_background": "light"
     },
     "output_type": "display_data"
    }
   ],
   "source": [
    "plt.scatter(df.whr, df.hdi)\n",
    "plt.title('the effect of the human quality in happiness')\n",
    "plt.xlabel('Happy Score (HWR)')\n",
    "plt.ylabel('human development index (HDI)')"
   ]
  },
  {
   "cell_type": "code",
   "execution_count": 58,
   "metadata": {},
   "outputs": [
    {
     "data": {
      "text/plain": [
       "0.7995432202436017"
      ]
     },
     "execution_count": 58,
     "metadata": {},
     "output_type": "execute_result"
    }
   ],
   "source": [
    "#correlation between the two variables\n",
    "corr = df.whr.corr(df.hdi)\n",
    "corr"
   ]
  },
  {
   "cell_type": "markdown",
   "metadata": {},
   "source": [
    "<a id='conclusions'></a>\n",
    "## Conclusions\n",
    "\n",
    "> **Result** : our data suggest that:\n",
    "   1. There is a big gap between the happy score in each country in the gulf\n",
    "   2. There is an increase in Human development index (HDI) in the gulf mostly at every country, which mean a better life quality \n",
    "   3. there is mid-high correlation between the income and the hdi and the whr, at any time or country\n",
    "   4. there is a high correlation between the happy score and the human development index, which convince to us that the life quality affect the happiness percantage\n",
    "    \n",
    "> **Limitation** : \n",
    "   1. there was a missing value in happy score dataframe which we filled up with mean... that may slightly affect the correlation \n",
    "   2. there was a country in the gulf Human development index dataframe we did not have informaton in our data which could affect the results"
   ]
  },
  {
   "cell_type": "code",
   "execution_count": null,
   "metadata": {},
   "outputs": [],
   "source": []
  }
 ],
 "metadata": {
  "kernelspec": {
   "display_name": "Python 3",
   "language": "python",
   "name": "python3"
  },
  "language_info": {
   "codemirror_mode": {
    "name": "ipython",
    "version": 3
   },
   "file_extension": ".py",
   "mimetype": "text/x-python",
   "name": "python",
   "nbconvert_exporter": "python",
   "pygments_lexer": "ipython3",
   "version": "3.7.6"
  }
 },
 "nbformat": 4,
 "nbformat_minor": 2
}
