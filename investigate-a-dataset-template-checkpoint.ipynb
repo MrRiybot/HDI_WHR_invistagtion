{
 "cells": [
  {
   "cell_type": "markdown",
   "metadata": {},
   "source": [
    "> **Tip**: Welcome to the Investigate a Dataset project! You will find tips in quoted sections like this to help organize your approach to your investigation. Before submitting your project, it will be a good idea to go back through your report and remove these sections to make the presentation of your work as tidy as possible. First things first, you might want to double-click this Markdown cell and change the title so that it reflects your dataset and investigation.\n",
    "\n",
    "# Project: Investigate a Dataset (Replace this with something more specific!)\n",
    "\n",
    "## Table of Contents\n",
    "<ul>\n",
    "<li><a href=\"#intro\">Introduction</a></li>\n",
    "<li><a href=\"#wrangling\">Data Wrangling</a></li>\n",
    "<li><a href=\"#eda\">Exploratory Data Analysis</a></li>\n",
    "<li><a href=\"#conclusions\">Conclusions</a></li>\n",
    "</ul>"
   ]
  },
  {
   "cell_type": "markdown",
   "metadata": {},
   "source": [
    "<a id='intro'></a>\n",
    "## Introduction\n",
    "\n",
    "> **Tip**: In this section of the report, provide a brief introduction to the dataset you've selected for analysis. At the end of this section, describe the questions that you plan on exploring over the course of the report. Try to build your report around the analysis of at least one dependent variable and three independent variables.\n",
    ">\n",
    "> If you haven't yet selected and downloaded your data, make sure you do that first before coming back here. If you're not sure what questions to ask right now, then make sure you familiarize yourself with the variables and the dataset context for ideas of what to explore."
   ]
  },
  {
   "cell_type": "markdown",
   "metadata": {},
   "source": [
    "> I collect three datasets **(income per person, Human development index(HDI) and happiness score(WHR) )**\n",
    "> "
   ]
  },
  {
   "cell_type": "code",
   "execution_count": 1,
   "metadata": {},
   "outputs": [],
   "source": [
    "# Use this cell to set up import statements for all of the packages that you\n",
    "#   plan to use.\n",
    "%matplotlib inline\n",
    "import pandas as pd\n",
    "import numpy as np\n",
    "from matplotlib import pyplot as plt\n",
    "\n",
    "# Remember to include a 'magic word' so that your visualizations are plotted\n",
    "#   inline with the notebook. See this page for more:\n",
    "#   http://ipython.readthedocs.io/en/stable/interactive/magics.html"
   ]
  },
  {
   "cell_type": "markdown",
   "metadata": {},
   "source": [
    "<a id='wrangling'></a>\n",
    "## Data Wrangling\n",
    "\n",
    "> **Tip**: In this section of the report, you will load in the data, check for cleanliness, and then trim and clean your dataset for analysis. Make sure that you document your steps carefully and justify your cleaning decisions.\n",
    "\n",
    "### General Properties"
   ]
  },
  {
   "cell_type": "code",
   "execution_count": 2,
   "metadata": {},
   "outputs": [],
   "source": [
    "# Load your data and print out a few lines. Perform operations to inspect data\n",
    "#   types and look for instances of missing or possibly errant data\n",
    "\n",
    "#income per person for every country in specific year by us dolars\n",
    "df_income = pd.read_csv('income_per_person_gdppercapita_ppp_inflation_adjusted.csv')\n",
    "#happy score for every country in specific year\n",
    "#This is the national average response to the question of life evaluations \n",
    "df_hrw = pd.read_csv('hapiscore_whr.csv') \n",
    "# Human Development Index is an index used to rank countries by level of \"human development\".\n",
    "#It contains three dimensions: health level, educational level and living standard.\n",
    "df_hdi = pd.read_csv('hdi_human_development_index.csv')"
   ]
  },
  {
   "cell_type": "markdown",
   "metadata": {},
   "source": [
    "\n",
    "### Data Cleaning (Replace this with more specific notes!)"
   ]
  },
  {
   "cell_type": "code",
   "execution_count": 3,
   "metadata": {},
   "outputs": [],
   "source": [
    "# After discussing the structure of the data and any problems that need to be\n",
    "#   cleaned, perform those cleaning steps in the second part of this section."
   ]
  },
  {
   "cell_type": "code",
   "execution_count": 4,
   "metadata": {},
   "outputs": [],
   "source": [
    "# in this cell we will crop the datasets, to make sure all is allign\n",
    "df_hrw = df_hrw.iloc[:,np.r_[0,df_hrw.columns.get_loc('2005'):df_hrw.columns.get_loc('2018')+1]].copy()\n",
    "df_hdi = df_hdi.iloc[:,np.r_[0,df_hdi.columns.get_loc('2005'):df_hdi.columns.get_loc('2018')+1]].copy()\n",
    "df_income = df_income.iloc[:,np.r_[0,df_income.columns.get_loc('2005'):df_income.columns.get_loc('2018')+1]].copy()"
   ]
  },
  {
   "cell_type": "code",
   "execution_count": 5,
   "metadata": {},
   "outputs": [
    {
     "name": "stdout",
     "output_type": "stream",
     "text": [
      "<class 'pandas.core.frame.DataFrame'>\n",
      "RangeIndex: 195 entries, 0 to 194\n",
      "Data columns (total 15 columns):\n",
      "country    195 non-null object\n",
      "2005       195 non-null object\n",
      "2006       195 non-null object\n",
      "2007       195 non-null object\n",
      "2008       195 non-null object\n",
      "2009       195 non-null object\n",
      "2010       195 non-null object\n",
      "2011       195 non-null object\n",
      "2012       195 non-null object\n",
      "2013       195 non-null object\n",
      "2014       195 non-null object\n",
      "2015       195 non-null object\n",
      "2016       195 non-null object\n",
      "2017       195 non-null object\n",
      "2018       195 non-null object\n",
      "dtypes: object(15)\n",
      "memory usage: 23.0+ KB\n"
     ]
    }
   ],
   "source": [
    "df_income.info()"
   ]
  },
  {
   "cell_type": "code",
   "execution_count": 6,
   "metadata": {},
   "outputs": [
    {
     "data": {
      "text/html": [
       "<div>\n",
       "<style scoped>\n",
       "    .dataframe tbody tr th:only-of-type {\n",
       "        vertical-align: middle;\n",
       "    }\n",
       "\n",
       "    .dataframe tbody tr th {\n",
       "        vertical-align: top;\n",
       "    }\n",
       "\n",
       "    .dataframe thead th {\n",
       "        text-align: right;\n",
       "    }\n",
       "</style>\n",
       "<table border=\"1\" class=\"dataframe\">\n",
       "  <thead>\n",
       "    <tr style=\"text-align: right;\">\n",
       "      <th></th>\n",
       "      <th>2005</th>\n",
       "      <th>2006</th>\n",
       "      <th>2007</th>\n",
       "      <th>2008</th>\n",
       "      <th>2009</th>\n",
       "      <th>2010</th>\n",
       "      <th>2011</th>\n",
       "      <th>2012</th>\n",
       "      <th>2013</th>\n",
       "      <th>2014</th>\n",
       "      <th>2015</th>\n",
       "      <th>2016</th>\n",
       "      <th>2017</th>\n",
       "      <th>2018</th>\n",
       "    </tr>\n",
       "  </thead>\n",
       "  <tbody>\n",
       "    <tr>\n",
       "      <th>0</th>\n",
       "      <td>1100</td>\n",
       "      <td>1120</td>\n",
       "      <td>1250</td>\n",
       "      <td>1270</td>\n",
       "      <td>1500</td>\n",
       "      <td>1670</td>\n",
       "      <td>1630</td>\n",
       "      <td>1770</td>\n",
       "      <td>1810</td>\n",
       "      <td>1800</td>\n",
       "      <td>1770</td>\n",
       "      <td>1760</td>\n",
       "      <td>1760</td>\n",
       "      <td>1740</td>\n",
       "    </tr>\n",
       "    <tr>\n",
       "      <th>1</th>\n",
       "      <td>5110</td>\n",
       "      <td>5500</td>\n",
       "      <td>6040</td>\n",
       "      <td>6470</td>\n",
       "      <td>6290</td>\n",
       "      <td>6360</td>\n",
       "      <td>6350</td>\n",
       "      <td>6650</td>\n",
       "      <td>6730</td>\n",
       "      <td>6810</td>\n",
       "      <td>6650</td>\n",
       "      <td>6260</td>\n",
       "      <td>6050</td>\n",
       "      <td>5730</td>\n",
       "    </tr>\n",
       "    <tr>\n",
       "      <th>2</th>\n",
       "      <td>7430</td>\n",
       "      <td>7910</td>\n",
       "      <td>8450</td>\n",
       "      <td>9160</td>\n",
       "      <td>9530</td>\n",
       "      <td>9930</td>\n",
       "      <td>10.2k</td>\n",
       "      <td>10.4k</td>\n",
       "      <td>10.5k</td>\n",
       "      <td>10.7k</td>\n",
       "      <td>11k</td>\n",
       "      <td>11.4k</td>\n",
       "      <td>11.8k</td>\n",
       "      <td>12.3k</td>\n",
       "    </tr>\n",
       "    <tr>\n",
       "      <th>3</th>\n",
       "      <td>39.8k</td>\n",
       "      <td>42.7k</td>\n",
       "      <td>43.4k</td>\n",
       "      <td>41.4k</td>\n",
       "      <td>41.7k</td>\n",
       "      <td>39k</td>\n",
       "      <td>42k</td>\n",
       "      <td>41.9k</td>\n",
       "      <td>43.7k</td>\n",
       "      <td>44.9k</td>\n",
       "      <td>46.6k</td>\n",
       "      <td>48.2k</td>\n",
       "      <td>49.8k</td>\n",
       "      <td>51.5k</td>\n",
       "    </tr>\n",
       "    <tr>\n",
       "      <th>4</th>\n",
       "      <td>91.6k</td>\n",
       "      <td>87.1k</td>\n",
       "      <td>77.2k</td>\n",
       "      <td>69.4k</td>\n",
       "      <td>58.8k</td>\n",
       "      <td>55.4k</td>\n",
       "      <td>56.6k</td>\n",
       "      <td>57.9k</td>\n",
       "      <td>60.4k</td>\n",
       "      <td>62.9k</td>\n",
       "      <td>65.8k</td>\n",
       "      <td>67k</td>\n",
       "      <td>66.7k</td>\n",
       "      <td>66.6k</td>\n",
       "    </tr>\n",
       "    <tr>\n",
       "      <th>...</th>\n",
       "      <td>...</td>\n",
       "      <td>...</td>\n",
       "      <td>...</td>\n",
       "      <td>...</td>\n",
       "      <td>...</td>\n",
       "      <td>...</td>\n",
       "      <td>...</td>\n",
       "      <td>...</td>\n",
       "      <td>...</td>\n",
       "      <td>...</td>\n",
       "      <td>...</td>\n",
       "      <td>...</td>\n",
       "      <td>...</td>\n",
       "      <td>...</td>\n",
       "    </tr>\n",
       "    <tr>\n",
       "      <th>190</th>\n",
       "      <td>5340</td>\n",
       "      <td>5410</td>\n",
       "      <td>5720</td>\n",
       "      <td>5740</td>\n",
       "      <td>5420</td>\n",
       "      <td>5410</td>\n",
       "      <td>5670</td>\n",
       "      <td>5650</td>\n",
       "      <td>5490</td>\n",
       "      <td>5520</td>\n",
       "      <td>5570</td>\n",
       "      <td>5940</td>\n",
       "      <td>6070</td>\n",
       "      <td>6090</td>\n",
       "    </tr>\n",
       "    <tr>\n",
       "      <th>191</th>\n",
       "      <td>4250</td>\n",
       "      <td>4270</td>\n",
       "      <td>4290</td>\n",
       "      <td>4320</td>\n",
       "      <td>4360</td>\n",
       "      <td>4570</td>\n",
       "      <td>3880</td>\n",
       "      <td>3860</td>\n",
       "      <td>3940</td>\n",
       "      <td>3830</td>\n",
       "      <td>3110</td>\n",
       "      <td>2620</td>\n",
       "      <td>2400</td>\n",
       "      <td>2360</td>\n",
       "    </tr>\n",
       "    <tr>\n",
       "      <th>192</th>\n",
       "      <td>11k</td>\n",
       "      <td>11.5k</td>\n",
       "      <td>11.9k</td>\n",
       "      <td>12.1k</td>\n",
       "      <td>11.8k</td>\n",
       "      <td>12k</td>\n",
       "      <td>12.2k</td>\n",
       "      <td>12.3k</td>\n",
       "      <td>12.4k</td>\n",
       "      <td>12.4k</td>\n",
       "      <td>12.4k</td>\n",
       "      <td>12.2k</td>\n",
       "      <td>12.2k</td>\n",
       "      <td>12.1k</td>\n",
       "    </tr>\n",
       "    <tr>\n",
       "      <th>193</th>\n",
       "      <td>2520</td>\n",
       "      <td>2650</td>\n",
       "      <td>2800</td>\n",
       "      <td>2930</td>\n",
       "      <td>3120</td>\n",
       "      <td>3340</td>\n",
       "      <td>3420</td>\n",
       "      <td>3570</td>\n",
       "      <td>3630</td>\n",
       "      <td>3690</td>\n",
       "      <td>3680</td>\n",
       "      <td>3700</td>\n",
       "      <td>3720</td>\n",
       "      <td>3740</td>\n",
       "    </tr>\n",
       "    <tr>\n",
       "      <th>194</th>\n",
       "      <td>1980</td>\n",
       "      <td>1890</td>\n",
       "      <td>1810</td>\n",
       "      <td>1480</td>\n",
       "      <td>1630</td>\n",
       "      <td>1930</td>\n",
       "      <td>2170</td>\n",
       "      <td>2490</td>\n",
       "      <td>2490</td>\n",
       "      <td>2510</td>\n",
       "      <td>2510</td>\n",
       "      <td>2490</td>\n",
       "      <td>2570</td>\n",
       "      <td>2620</td>\n",
       "    </tr>\n",
       "  </tbody>\n",
       "</table>\n",
       "<p>195 rows × 14 columns</p>\n",
       "</div>"
      ],
      "text/plain": [
       "      2005   2006   2007   2008   2009   2010   2011   2012   2013   2014  \\\n",
       "0     1100   1120   1250   1270   1500   1670   1630   1770   1810   1800   \n",
       "1     5110   5500   6040   6470   6290   6360   6350   6650   6730   6810   \n",
       "2     7430   7910   8450   9160   9530   9930  10.2k  10.4k  10.5k  10.7k   \n",
       "3    39.8k  42.7k  43.4k  41.4k  41.7k    39k    42k  41.9k  43.7k  44.9k   \n",
       "4    91.6k  87.1k  77.2k  69.4k  58.8k  55.4k  56.6k  57.9k  60.4k  62.9k   \n",
       "..     ...    ...    ...    ...    ...    ...    ...    ...    ...    ...   \n",
       "190   5340   5410   5720   5740   5420   5410   5670   5650   5490   5520   \n",
       "191   4250   4270   4290   4320   4360   4570   3880   3860   3940   3830   \n",
       "192    11k  11.5k  11.9k  12.1k  11.8k    12k  12.2k  12.3k  12.4k  12.4k   \n",
       "193   2520   2650   2800   2930   3120   3340   3420   3570   3630   3690   \n",
       "194   1980   1890   1810   1480   1630   1930   2170   2490   2490   2510   \n",
       "\n",
       "      2015   2016   2017   2018  \n",
       "0     1770   1760   1760   1740  \n",
       "1     6650   6260   6050   5730  \n",
       "2      11k  11.4k  11.8k  12.3k  \n",
       "3    46.6k  48.2k  49.8k  51.5k  \n",
       "4    65.8k    67k  66.7k  66.6k  \n",
       "..     ...    ...    ...    ...  \n",
       "190   5570   5940   6070   6090  \n",
       "191   3110   2620   2400   2360  \n",
       "192  12.4k  12.2k  12.2k  12.1k  \n",
       "193   3680   3700   3720   3740  \n",
       "194   2510   2490   2570   2620  \n",
       "\n",
       "[195 rows x 14 columns]"
      ]
     },
     "execution_count": 6,
     "metadata": {},
     "output_type": "execute_result"
    }
   ],
   "source": [
    "# we are having a problem here, which is the type of the data is string, also there is letter (k) for 1000 \n",
    "df_income.iloc[:,1:]"
   ]
  },
  {
   "cell_type": "code",
   "execution_count": 7,
   "metadata": {},
   "outputs": [
    {
     "name": "stderr",
     "output_type": "stream",
     "text": [
      "C:\\Users\\MrSwi\\AppData\\Roaming\\Python\\Python37\\site-packages\\ipykernel_launcher.py:7: SettingWithCopyWarning: \n",
      "A value is trying to be set on a copy of a slice from a DataFrame\n",
      "\n",
      "See the caveats in the documentation: http://pandas.pydata.org/pandas-docs/stable/user_guide/indexing.html#returning-a-view-versus-a-copy\n",
      "  import sys\n"
     ]
    }
   ],
   "source": [
    "# here we changing the dtype for income because we are having an issue which is the data is object('string')\n",
    "df_income_float = df_income.copy()\n",
    "for col in df_income_float.iloc[:,1:]:\n",
    "    for i in range(df_income_float.shape[0]):\n",
    "        # here we are changing the k to 1000 \n",
    "        if \"k\" in str(df_income_float[col][i]):\n",
    "            df_income_float[col][i] = (float(df_income_float[col][i].replace('k',''))*1000) \n",
    "    #changing every col\n",
    "    df_income_float[col] = df_income_float[col].copy().astype(float)"
   ]
  },
  {
   "cell_type": "code",
   "execution_count": 8,
   "metadata": {},
   "outputs": [
    {
     "name": "stdout",
     "output_type": "stream",
     "text": [
      "<class 'pandas.core.frame.DataFrame'>\n",
      "RangeIndex: 195 entries, 0 to 194\n",
      "Data columns (total 15 columns):\n",
      "country    195 non-null object\n",
      "2005       195 non-null float64\n",
      "2006       195 non-null float64\n",
      "2007       195 non-null float64\n",
      "2008       195 non-null float64\n",
      "2009       195 non-null float64\n",
      "2010       195 non-null float64\n",
      "2011       195 non-null float64\n",
      "2012       195 non-null float64\n",
      "2013       195 non-null float64\n",
      "2014       195 non-null float64\n",
      "2015       195 non-null float64\n",
      "2016       195 non-null float64\n",
      "2017       195 non-null float64\n",
      "2018       195 non-null float64\n",
      "dtypes: float64(14), object(1)\n",
      "memory usage: 23.0+ KB\n"
     ]
    }
   ],
   "source": [
    "df_income_float.info()"
   ]
  },
  {
   "cell_type": "code",
   "execution_count": 9,
   "metadata": {},
   "outputs": [
    {
     "data": {
      "text/plain": [
       "True"
      ]
     },
     "execution_count": 9,
     "metadata": {},
     "output_type": "execute_result"
    }
   ],
   "source": [
    "# making sure that the iteration does not affect the values without \"k\"\n",
    "float(df_income['2005'][0]) == df_income_float['2005'][0]"
   ]
  },
  {
   "cell_type": "code",
   "execution_count": 10,
   "metadata": {},
   "outputs": [
    {
     "data": {
      "text/plain": [
       "'91.6k'"
      ]
     },
     "execution_count": 10,
     "metadata": {},
     "output_type": "execute_result"
    }
   ],
   "source": [
    "df_income['2005'][4]"
   ]
  },
  {
   "cell_type": "code",
   "execution_count": 11,
   "metadata": {},
   "outputs": [
    {
     "data": {
      "text/plain": [
       "91600.0"
      ]
     },
     "execution_count": 11,
     "metadata": {},
     "output_type": "execute_result"
    }
   ],
   "source": [
    "df_income_float['2005'][4]"
   ]
  },
  {
   "cell_type": "code",
   "execution_count": 12,
   "metadata": {},
   "outputs": [],
   "source": [
    "df_income = df_income_float.copy()"
   ]
  },
  {
   "cell_type": "code",
   "execution_count": 13,
   "metadata": {},
   "outputs": [],
   "source": [
    "# renaming every dataframe to merge it \n",
    "df_hrw.rename(columns=lambda x: x[:10] + '_hrw',inplace=True)\n",
    "df_hdi.rename(columns=lambda x: x[:10] + '_hdi',inplace=True)\n",
    "df_income.rename(columns=lambda x: x[:10] + '_income',inplace=True)\n",
    "df_hrw.rename(columns={'country_hrw':'country'},inplace=True)\n",
    "df_hdi.rename(columns={'country_hdi':'country'},inplace=True)\n",
    "df_income.rename(columns={'country_income':'country'},inplace=True)"
   ]
  },
  {
   "cell_type": "code",
   "execution_count": 14,
   "metadata": {},
   "outputs": [],
   "source": [
    "# inner join to all the dataframes\n",
    "df = df_hrw.merge(df_hdi,on='country')\n",
    "df = df.merge(df_income,on='country')"
   ]
  },
  {
   "cell_type": "code",
   "execution_count": 15,
   "metadata": {},
   "outputs": [],
   "source": [
    "# here is the most important point...\n",
    "# here we allign every 3 data points to each other\n",
    "df_new = pd.DataFrame(columns=['hrw','hdi','income'])\n",
    "for i in range(2005,2019):\n",
    "    series = pd.concat([df[str(i)+'_hrw'],\n",
    "                       df[str(i)+'_hdi'],\n",
    "                       df[str(i)+'_income']],\n",
    "                       axis=1,\n",
    "                       keys=df_new.columns)\n",
    "    \n",
    "    data = pd.DataFrame(data=series)\n",
    "    df_new = df_new.append(data,ignore_index=True)\n",
    "    "
   ]
  },
  {
   "cell_type": "code",
   "execution_count": 16,
   "metadata": {},
   "outputs": [
    {
     "data": {
      "text/plain": [
       "0    0.410\n",
       "1    0.453\n",
       "2    0.702\n",
       "3    0.809\n",
       "4    0.777\n",
       "Name: 2005_hdi, dtype: float64"
      ]
     },
     "execution_count": 16,
     "metadata": {},
     "output_type": "execute_result"
    }
   ],
   "source": [
    "df['2005_hdi'].head(5) "
   ]
  },
  {
   "cell_type": "code",
   "execution_count": 17,
   "metadata": {},
   "outputs": [
    {
     "data": {
      "text/html": [
       "<div>\n",
       "<style scoped>\n",
       "    .dataframe tbody tr th:only-of-type {\n",
       "        vertical-align: middle;\n",
       "    }\n",
       "\n",
       "    .dataframe tbody tr th {\n",
       "        vertical-align: top;\n",
       "    }\n",
       "\n",
       "    .dataframe thead th {\n",
       "        text-align: right;\n",
       "    }\n",
       "</style>\n",
       "<table border=\"1\" class=\"dataframe\">\n",
       "  <thead>\n",
       "    <tr style=\"text-align: right;\">\n",
       "      <th></th>\n",
       "      <th>hrw</th>\n",
       "      <th>hdi</th>\n",
       "      <th>income</th>\n",
       "    </tr>\n",
       "  </thead>\n",
       "  <tbody>\n",
       "    <tr>\n",
       "      <th>0</th>\n",
       "      <td>NaN</td>\n",
       "      <td>0.410</td>\n",
       "      <td>1100.0</td>\n",
       "    </tr>\n",
       "    <tr>\n",
       "      <th>1</th>\n",
       "      <td>NaN</td>\n",
       "      <td>0.453</td>\n",
       "      <td>5110.0</td>\n",
       "    </tr>\n",
       "    <tr>\n",
       "      <th>2</th>\n",
       "      <td>NaN</td>\n",
       "      <td>0.702</td>\n",
       "      <td>7430.0</td>\n",
       "    </tr>\n",
       "    <tr>\n",
       "      <th>3</th>\n",
       "      <td>NaN</td>\n",
       "      <td>0.809</td>\n",
       "      <td>91600.0</td>\n",
       "    </tr>\n",
       "    <tr>\n",
       "      <th>4</th>\n",
       "      <td>NaN</td>\n",
       "      <td>0.777</td>\n",
       "      <td>15600.0</td>\n",
       "    </tr>\n",
       "  </tbody>\n",
       "</table>\n",
       "</div>"
      ],
      "text/plain": [
       "   hrw    hdi   income\n",
       "0  NaN  0.410   1100.0\n",
       "1  NaN  0.453   5110.0\n",
       "2  NaN  0.702   7430.0\n",
       "3  NaN  0.809  91600.0\n",
       "4  NaN  0.777  15600.0"
      ]
     },
     "execution_count": 17,
     "metadata": {},
     "output_type": "execute_result"
    }
   ],
   "source": [
    "df_new.head(5) ## in these two cell we want to check the alligning... all looks fine and correct"
   ]
  },
  {
   "cell_type": "code",
   "execution_count": 18,
   "metadata": {},
   "outputs": [
    {
     "data": {
      "text/plain": [
       "1"
      ]
     },
     "execution_count": 18,
     "metadata": {},
     "output_type": "execute_result"
    }
   ],
   "source": [
    "df_new.duplicated().any().sum() # checking for duplicated..."
   ]
  },
  {
   "cell_type": "code",
   "execution_count": 19,
   "metadata": {},
   "outputs": [],
   "source": [
    "df_new.drop_duplicates(inplace=True) #dropping duplicated..."
   ]
  },
  {
   "cell_type": "code",
   "execution_count": 20,
   "metadata": {},
   "outputs": [
    {
     "data": {
      "text/plain": [
       "hrw       585\n",
       "hdi        10\n",
       "income      0\n",
       "dtype: int64"
      ]
     },
     "execution_count": 20,
     "metadata": {},
     "output_type": "execute_result"
    }
   ],
   "source": [
    "df_new.isnull().sum() # checking for nulls"
   ]
  },
  {
   "cell_type": "code",
   "execution_count": 21,
   "metadata": {},
   "outputs": [],
   "source": [
    "df_new.dropna(inplace=True) # dropping nulls (no need to fill them we have enough data)"
   ]
  },
  {
   "cell_type": "code",
   "execution_count": 22,
   "metadata": {},
   "outputs": [
    {
     "data": {
      "text/plain": [
       "True"
      ]
     },
     "execution_count": 22,
     "metadata": {},
     "output_type": "execute_result"
    }
   ],
   "source": [
    "df_new.duplicated().any().sum() == 0 and df_new.isnull().sum().any() == False # checking that every thing is good"
   ]
  },
  {
   "cell_type": "markdown",
   "metadata": {},
   "source": [
    "<a id='eda'></a>\n",
    "## Exploratory Data Analysis\n",
    "\n",
    "> **Tip**: Now that you've trimmed and cleaned your data, you're ready to move on to exploration. Compute statistics and create visualizations with the goal of addressing the research questions that you posed in the Introduction section. It is recommended that you be systematic with your approach. Look at one variable at a time, and then follow it up by looking at relationships between variables.\n",
    "\n",
    "### Research Question 1 (Replace this header name!)"
   ]
  },
  {
   "cell_type": "code",
   "execution_count": 23,
   "metadata": {},
   "outputs": [],
   "source": [
    "# Use this, and more code cells, to explore your data. Don't forget to add\n",
    "#   Markdown cells to document your observations and findings.\n"
   ]
  },
  {
   "cell_type": "code",
   "execution_count": 24,
   "metadata": {},
   "outputs": [
    {
     "data": {
      "text/plain": [
       "6       39000.0\n",
       "10      39800.0\n",
       "20      12400.0\n",
       "24      40600.0\n",
       "37      25800.0\n",
       "         ...   \n",
       "2249     6610.0\n",
       "2250     2360.0\n",
       "2251    12100.0\n",
       "2252     3740.0\n",
       "2253     2620.0\n",
       "Name: income, Length: 1667, dtype: float64"
      ]
     },
     "execution_count": 24,
     "metadata": {},
     "output_type": "execute_result"
    }
   ],
   "source": [
    "df_new.income"
   ]
  },
  {
   "cell_type": "markdown",
   "metadata": {},
   "source": [
    "#### is there a relation between the average income and the human development index or the happy score ?"
   ]
  },
  {
   "cell_type": "code",
   "execution_count": 25,
   "metadata": {},
   "outputs": [
    {
     "data": {
      "text/plain": [
       "Text(0, 0.5, 'Happy Score (WHR)')"
      ]
     },
     "execution_count": 25,
     "metadata": {},
     "output_type": "execute_result"
    },
    {
     "data": {
      "image/png": "[encoded data removed]",
      "text/plain": [
       "<Figure size 432x288 with 1 Axes>"
      ]
     },
     "metadata": {
      "needs_background": "light"
     },
     "output_type": "display_data"
    }
   ],
   "source": [
    "plt.scatter(df_new.income, df_new.hrw)\n",
    "plt.title('the effect of the income in happiness')\n",
    "plt.xlabel('income per person by US Dollars')\n",
    "plt.ylabel('Happy Score (WHR)')"
   ]
  },
  {
   "cell_type": "code",
   "execution_count": 26,
   "metadata": {},
   "outputs": [
    {
     "data": {
      "image/png": "[encoded data removed]",
      "text/plain": [
       "<Figure size 432x288 with 1 Axes>"
      ]
     },
     "metadata": {
      "needs_background": "light"
     },
     "output_type": "display_data"
    }
   ],
   "source": [
    "plt.scatter(df_new.income, df_new.hdi)\n",
    "plt.title('the effect of the income in human life quality')\n",
    "plt.xlabel('income per person by US Dollars ')\n",
    "plt.ylabel('human development index (HDI)')\n",
    "plt.show()"
   ]
  },
  {
   "cell_type": "code",
   "execution_count": 28,
   "metadata": {},
   "outputs": [
    {
     "data": {
      "text/plain": [
       "0.7086330365495478"
      ]
     },
     "execution_count": 28,
     "metadata": {},
     "output_type": "execute_result"
    }
   ],
   "source": [
    "corr_income_whr = df_new.income.corr(df_new.hrw)\n",
    "corr_income_whr"
   ]
  },
  {
   "cell_type": "code",
   "execution_count": 30,
   "metadata": {},
   "outputs": [
    {
     "data": {
      "text/plain": [
       "0.7655826580121391"
      ]
     },
     "execution_count": 30,
     "metadata": {},
     "output_type": "execute_result"
    }
   ],
   "source": [
    "corr_income_hdi = df_new.income.corr(df_new.hdi)\n",
    "corr_income_hdi"
   ]
  },
  {
   "cell_type": "markdown",
   "metadata": {},
   "source": [
    "### Research Question 2  (Replace this header name!)"
   ]
  },
  {
   "cell_type": "markdown",
   "metadata": {},
   "source": [
    "#### is there a high correlation between WHR and HDI?"
   ]
  },
  {
   "cell_type": "code",
   "execution_count": 27,
   "metadata": {},
   "outputs": [
    {
     "data": {
      "text/plain": [
       "Text(0, 0.5, 'human development index (HDI)')"
      ]
     },
     "execution_count": 27,
     "metadata": {},
     "output_type": "execute_result"
    },
    {
     "data": {
      "image/png": "[encoded data removed]",
      "text/plain": [
       "<Figure size 432x288 with 1 Axes>"
      ]
     },
     "metadata": {
      "needs_background": "light"
     },
     "output_type": "display_data"
    }
   ],
   "source": [
    "plt.scatter(df_new.hrw, df_new.hdi)\n",
    "plt.title('the effect of the human quality in happiness')\n",
    "plt.xlabel('Happy Score (HWR)')\n",
    "plt.ylabel('human development index (HDI)')"
   ]
  },
  {
   "cell_type": "code",
   "execution_count": 26,
   "metadata": {},
   "outputs": [
    {
     "data": {
      "text/plain": [
       "0.7756535555009765"
      ]
     },
     "execution_count": 26,
     "metadata": {},
     "output_type": "execute_result"
    }
   ],
   "source": [
    "#correlation between the two variables\n",
    "corr = df_new.hrw.corr(df_new.hdi)\n",
    "corr"
   ]
  },
  {
   "cell_type": "markdown",
   "metadata": {},
   "source": [
    "<a id='conclusions'></a>\n",
    "## Conclusions\n",
    "\n",
    "> : After visualizing all the variables to each other, we see that the income does effect the human development index and           the happy score.\n",
    "\n",
    "> : Also after visualizing the two variables, we see that there is a high correlation (0.77) to the human development index and     the happy score which conclude to us that the three dimensions: health level, educational level and living standard.\n",
    "    that used to rank (HDI) affect the happy score."
   ]
  },
  {
   "cell_type": "code",
   "execution_count": null,
   "metadata": {},
   "outputs": [],
   "source": []
  }
 ],
 "metadata": {
  "kernelspec": {
   "display_name": "Python 3",
   "language": "python",
   "name": "python3"
  },
  "language_info": {
   "codemirror_mode": {
    "name": "ipython",
    "version": 3
   },
   "file_extension": ".py",
   "mimetype": "text/x-python",
   "name": "python",
   "nbconvert_exporter": "python",
   "pygments_lexer": "ipython3",
   "version": "3.7.6"
  }
 },
 "nbformat": 4,
 "nbformat_minor": 2
}
